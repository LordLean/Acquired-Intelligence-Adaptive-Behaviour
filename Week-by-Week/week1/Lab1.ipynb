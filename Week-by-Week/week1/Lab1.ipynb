{
  "nbformat": 4,
  "nbformat_minor": 0,
  "metadata": {
    "colab": {
      "name": "A_NLE_Lab1.ipynb",
      "provenance": [],
      "collapsed_sections": [],
      "authorship_tag": "ABX9TyMXbcn1Bwvj3p5xCfWDSUBG",
      "include_colab_link": true
    },
    "kernelspec": {
      "name": "python3",
      "display_name": "Python 3"
    }
  },
  "cells": [
    {
      "cell_type": "markdown",
      "metadata": {
        "id": "view-in-github",
        "colab_type": "text"
      },
      "source": [
        "<a href=\"https://colab.research.google.com/github/LordLean/Acquired-Intelligence-Adaptive-Behaviour/blob/master/Week-by-Week/week1/Lab1.ipynb\" target=\"_parent\"><img src=\"https://colab.research.google.com/assets/colab-badge.svg\" alt=\"Open In Colab\"/></a>"
      ]
    },
    {
      "cell_type": "code",
      "metadata": {
        "id": "rNBNlSuuSLX7"
      },
      "source": [
        "import nltk\n",
        "from nltk.corpus import wordnet as wn, wordnet_ic as wn_ic, lin_thesaurus as lin\n",
        "import operator\n",
        "\n",
        "import pandas as pd\n",
        "from scipy import stats\n",
        "from IPython.display import display\n",
        "\n",
        "from gensim.models import KeyedVectors\n",
        "\n",
        "import matplotlib.pyplot as plt\n",
        "import math\n",
        "import numpy as np"
      ],
      "execution_count": 131,
      "outputs": []
    },
    {
      "cell_type": "code",
      "metadata": {
        "colab": {
          "base_uri": "https://localhost:8080/"
        },
        "id": "xBkD4moZS8X3",
        "outputId": "4b7a67f1-1382-486f-886a-e37a8b5bdee5"
      },
      "source": [
        "nltk.download(\"wordnet\")\n",
        "nltk.download(\"wordnet_ic\")\n",
        "nltk.download(\"lin_thesaurus\")"
      ],
      "execution_count": 2,
      "outputs": [
        {
          "output_type": "stream",
          "text": [
            "[nltk_data] Downloading package wordnet to /root/nltk_data...\n",
            "[nltk_data]   Unzipping corpora/wordnet.zip.\n",
            "[nltk_data] Downloading package wordnet_ic to /root/nltk_data...\n",
            "[nltk_data]   Unzipping corpora/wordnet_ic.zip.\n",
            "[nltk_data] Downloading package lin_thesaurus to /root/nltk_data...\n",
            "[nltk_data]   Unzipping corpora/lin_thesaurus.zip.\n"
          ],
          "name": "stdout"
        },
        {
          "output_type": "execute_result",
          "data": {
            "text/plain": [
              "True"
            ]
          },
          "metadata": {
            "tags": []
          },
          "execution_count": 2
        }
      ]
    },
    {
      "cell_type": "markdown",
      "metadata": {
        "id": "jUzKyTkHq7s_"
      },
      "source": [
        "# Common WordNet Functions"
      ]
    },
    {
      "cell_type": "code",
      "metadata": {
        "id": "V0WjJPa1S0vF"
      },
      "source": [
        "synsets = wn.synsets(\"book\", wn.NOUN)\n",
        "synsetA = synsets[0]"
      ],
      "execution_count": 3,
      "outputs": []
    },
    {
      "cell_type": "code",
      "metadata": {
        "colab": {
          "base_uri": "https://localhost:8080/"
        },
        "id": "4M0VDGB2TcTz",
        "outputId": "1c71d3b5-c711-4b52-ed26-4d0f1d0b82a8"
      },
      "source": [
        "# Definition\n",
        "print(synsetA.definition(),\"\\n\")\n",
        "# Hyponym\n",
        "print(synsetA.hyponyms(), \"\\n\")\n",
        "# Hypernym\n",
        "print(synsetA.hypernyms(), \"\\n\")\n",
        "# Root\n",
        "print(synsetA.root_hypernyms(), \"\\n\")\n",
        "# Co-hyponyms \n",
        "print(synsetA.hypernyms()[0].hyponyms())"
      ],
      "execution_count": 4,
      "outputs": [
        {
          "output_type": "stream",
          "text": [
            "a written work or composition that has been published (printed on pages bound together) \n",
            "\n",
            "[Synset('appointment_book.n.01'), Synset('authority.n.07'), Synset('bestiary.n.01'), Synset('booklet.n.01'), Synset('catalog.n.01'), Synset('catechism.n.02'), Synset('copybook.n.01'), Synset('curiosa.n.01'), Synset('formulary.n.01'), Synset('phrase_book.n.01'), Synset('playbook.n.02'), Synset('pop-up_book.n.01'), Synset('prayer_book.n.01'), Synset('reference_book.n.01'), Synset('review_copy.n.01'), Synset('songbook.n.01'), Synset('storybook.n.01'), Synset('textbook.n.01'), Synset('tome.n.01'), Synset('trade_book.n.01'), Synset('workbook.n.01'), Synset('yearbook.n.01')] \n",
            "\n",
            "[Synset('publication.n.01')] \n",
            "\n",
            "[Synset('entity.n.01')] \n",
            "\n",
            "[Synset('book.n.01'), Synset('collection.n.02'), Synset('impression.n.06'), Synset('magazine.n.01'), Synset('new_edition.n.01'), Synset('periodical.n.01'), Synset('read.n.01'), Synset('reference.n.08'), Synset('reissue.n.01'), Synset('republication.n.01'), Synset('tip_sheet.n.01'), Synset('volume.n.04')]\n"
          ],
          "name": "stdout"
        }
      ]
    },
    {
      "cell_type": "code",
      "metadata": {
        "id": "Lyoa18GQUzgO"
      },
      "source": [
        "def wordnet_synset_hierarchy(synset, reverse=False, lemma_names=False):\n",
        "  \"\"\"\n",
        "  Returns ordered list of hypernyms paths from this synset to the root.\n",
        "  \"\"\"\n",
        "  data = list(synset.hypernym_distances())\n",
        "  if lemma_names:\n",
        "    data = [(lemma.lemma_names()[0], rank) for lemma, rank in data]\n",
        "  return sorted(data, key=lambda tup: tup[1], reverse=reverse)\n",
        "\n",
        "\n",
        "def wordnet_synset_hierarchy_alt(synset):\n",
        "  \"\"\"\n",
        "  Returns ordered list of hypernyms paths from this synset to the root.\n",
        "  Alternative to above function.\n",
        "  \"\"\"\n",
        "  lst = synset.hypernym_paths()[0]\n",
        "  lst.reverse()\n",
        "  return [depth for depth in enumerate(lst)]"
      ],
      "execution_count": 5,
      "outputs": []
    },
    {
      "cell_type": "code",
      "metadata": {
        "colab": {
          "base_uri": "https://localhost:8080/"
        },
        "id": "T2xhKWPu65lz",
        "outputId": "a9fd831d-2eda-4cbb-b3e3-5ae57c867b0e"
      },
      "source": [
        "wordnet_synset_hierarchy(synsetA)\n",
        "wordnet_synset_hierarchy_alt(synsetA)\n",
        "\n",
        "# dog = wn.synset('dog.n.01')\n",
        "# hyp = lambda s:s.hypernyms()\n",
        "# list(dog.closure(hyp))"
      ],
      "execution_count": 6,
      "outputs": [
        {
          "output_type": "execute_result",
          "data": {
            "text/plain": [
              "[(0, Synset('book.n.01')),\n",
              " (1, Synset('publication.n.01')),\n",
              " (2, Synset('work.n.02')),\n",
              " (3, Synset('product.n.02')),\n",
              " (4, Synset('creation.n.02')),\n",
              " (5, Synset('artifact.n.01')),\n",
              " (6, Synset('whole.n.02')),\n",
              " (7, Synset('object.n.01')),\n",
              " (8, Synset('physical_entity.n.01')),\n",
              " (9, Synset('entity.n.01'))]"
            ]
          },
          "metadata": {
            "tags": []
          },
          "execution_count": 6
        }
      ]
    },
    {
      "cell_type": "code",
      "metadata": {
        "id": "ny4H3ZnmCi8T"
      },
      "source": [
        "brown_ic=wn_ic.ic(\"ic-brown.dat\")"
      ],
      "execution_count": 7,
      "outputs": []
    },
    {
      "cell_type": "code",
      "metadata": {
        "colab": {
          "base_uri": "https://localhost:8080/"
        },
        "id": "CKsWyDx8CruG",
        "outputId": "22f2702d-2fc6-4f6d-af0b-b7840a129bb6"
      },
      "source": [
        "synsetB = synsets[1]\n",
        "print(\"res similarity: {}\".format(synsetA.res_similarity(synsetB,brown_ic)))\n",
        "print(\"lin similarity: {}\".format(synsetA.lin_similarity(synsetB,brown_ic)))"
      ],
      "execution_count": 8,
      "outputs": [
        {
          "output_type": "stream",
          "text": [
            "res similarity: 5.454686565783099\n",
            "lin similarity: 0.7098990245459575\n"
          ],
          "name": "stdout"
        }
      ]
    },
    {
      "cell_type": "code",
      "metadata": {
        "colab": {
          "base_uri": "https://localhost:8080/"
        },
        "id": "ugm7z5jFC64k",
        "outputId": "3413e44c-88fb-4e4b-d0e0-725fcd4f759e"
      },
      "source": [
        "def word_similarity(noun_x, noun_y, measure=\"path\"):\n",
        "  \"\"\"\n",
        "  Returns path similarity of two nouns.\n",
        "  \"\"\"\n",
        "  synsets_x = wn.synsets(noun_x)\n",
        "  synsets_y = wn.synsets(noun_y)\n",
        "  val = 0\n",
        "  for syn_x in synsets_x:\n",
        "    for syn_y in synsets_y:\n",
        "      try:\n",
        "        if measure == \"path\":\n",
        "          curr = syn_x.path_similarity(syn_y) \n",
        "        elif measure == \"res\":\n",
        "          curr = syn_x.res_similarity(syn_y,brown_ic) \n",
        "        elif measure == \"lin\":\n",
        "          curr = syn_x.lin_similarity(syn_y,brown_ic) \n",
        "      except:\n",
        "        pass\n",
        "      if curr:\n",
        "        if curr > val:\n",
        "          val = curr\n",
        "  return round(val,4)\n",
        "\n",
        "word_similarity(\"chicken\",\"car\")"
      ],
      "execution_count": 9,
      "outputs": [
        {
          "output_type": "execute_result",
          "data": {
            "text/plain": [
              "0.0909"
            ]
          },
          "metadata": {
            "tags": []
          },
          "execution_count": 9
        }
      ]
    },
    {
      "cell_type": "markdown",
      "metadata": {
        "id": "ucnIV0m2q2BQ"
      },
      "source": [
        "# Human Synonymy and Judgement"
      ]
    },
    {
      "cell_type": "code",
      "metadata": {
        "colab": {
          "base_uri": "https://localhost:8080/"
        },
        "id": "EgmC0Wy4XYVn",
        "outputId": "07b5850a-913b-4b07-b84d-43fdb8ede603"
      },
      "source": [
        "# Download mcdata.csv\n",
        "!gdown --id 1d_-S7eje-yh2SKYTiJi78kk6k_LRfmHa"
      ],
      "execution_count": 10,
      "outputs": [
        {
          "output_type": "stream",
          "text": [
            "Downloading...\n",
            "From: https://drive.google.com/uc?id=1d_-S7eje-yh2SKYTiJi78kk6k_LRfmHa\n",
            "To: /content/mcdata.csv\n",
            "\r  0% 0.00/540 [00:00<?, ?B/s]\r100% 540/540 [00:00<00:00, 469kB/s]\n"
          ],
          "name": "stdout"
        }
      ]
    },
    {
      "cell_type": "code",
      "metadata": {
        "id": "z3ZRC7kpY6YK",
        "colab": {
          "base_uri": "https://localhost:8080/",
          "height": 391
        },
        "outputId": "a9b04ef1-0d21-4eb2-c1cf-115fb0086b77"
      },
      "source": [
        "### Load df\n",
        "df = pd.read_csv(\"mcdata.csv\")\n",
        "\n",
        "\n",
        "### Setup df\n",
        "# Drop column names as row.\n",
        "df.loc[-1] = df.columns.to_list()\n",
        "df.index = df.index + 1\n",
        "df.sort_index(inplace=True)\n",
        "# Rename columns.\n",
        "df.rename(columns={\"asylum\": \"Noun1\", \"madhouse\": \"Noun2\", \"3.61\": \"MC_sim_score\"}, inplace=True)\n",
        "# Convert dtype of MC_sim_score column.\n",
        "df[\"MC_sim_score\"] = pd.to_numeric(df[\"MC_sim_score\"])\n",
        "# Sort by MC_sim_score\n",
        "df.sort_values(by=[\"MC_sim_score\"], ascending=False, inplace=True)\n",
        "# df.reset_index(drop=True, inplace=True)\n",
        "\n",
        "\n",
        "### Create similarity scores for each noun pair using different semantic similarity measures.\n",
        "df[\"path_sim_score\"] = df.apply(lambda row: word_similarity(row.Noun1, row.Noun2), axis=1)\n",
        "df[\"res_sim_score\"] = df.apply(lambda row: word_similarity(row.Noun1, row.Noun2, \"res\"), axis=1)\n",
        "df[\"lin_sim_score\"] = df.apply(lambda row: word_similarity(row.Noun1, row.Noun2, \"lin\"), axis=1)\n",
        "\n",
        "\n",
        "### Calculate Spearman's rank correlation coefficient and pvals for path_similarity + res/lin.\n",
        "# path + res, path + lin\n",
        "for col_name in [\"res_sim_score\", \"lin_sim_score\"]:\n",
        "  rho, pval = stats.spearmanr(df[\"path_sim_score\"], df[col_name])\n",
        "  print(\"Correlation between path_sim_score and {} similiarity scores:\".format(col_name))\n",
        "  print(\"Spearmans: {}\\np value: {}\".format(rho, pval))\n",
        "  print()\n",
        "\n",
        "\n",
        "### Calculate Spearman's rank correlation coefficient and pvals for res + lin.\n",
        "# res + lin\n",
        "rho, pval = stats.spearmanr(df[\"res_sim_score\"], df[\"lin_sim_score\"])\n",
        "print(\"Correlation between res and lin similiarity scores:\")\n",
        "print(\"Spearmans: {}\\np value: {}\".format(rho, pval))\n",
        "print(\"\\nHigh correlation coefficient suggests a strong correlation.\\nLow p value suggests evidence points to an effect on this sample. \")\n",
        "\n",
        "\n",
        "### Show correlation matrix for numerical columns of df.\n",
        "df.corr(method=\"spearman\")"
      ],
      "execution_count": 44,
      "outputs": [
        {
          "output_type": "stream",
          "text": [
            "Correlation between path_sim_score and res_sim_score similiarity scores:\n",
            "Spearmans: 0.9155058830937143\n",
            "p value: 1.3728011000739396e-12\n",
            "\n",
            "Correlation between path_sim_score and lin_sim_score similiarity scores:\n",
            "Spearmans: 0.9546218652028885\n",
            "p value: 2.910621963360117e-16\n",
            "\n",
            "Correlation between res and lin similiarity scores:\n",
            "Spearmans: 0.962707165548334\n",
            "p value: 1.9614906768607923e-17\n",
            "\n",
            "High correlation coefficient suggests a strong correlation.\n",
            "Low p value suggests evidence points to an effect on this sample. \n"
          ],
          "name": "stdout"
        },
        {
          "output_type": "execute_result",
          "data": {
            "text/html": [
              "<div>\n",
              "<style scoped>\n",
              "    .dataframe tbody tr th:only-of-type {\n",
              "        vertical-align: middle;\n",
              "    }\n",
              "\n",
              "    .dataframe tbody tr th {\n",
              "        vertical-align: top;\n",
              "    }\n",
              "\n",
              "    .dataframe thead th {\n",
              "        text-align: right;\n",
              "    }\n",
              "</style>\n",
              "<table border=\"1\" class=\"dataframe\">\n",
              "  <thead>\n",
              "    <tr style=\"text-align: right;\">\n",
              "      <th></th>\n",
              "      <th>MC_sim_score</th>\n",
              "      <th>path_sim_score</th>\n",
              "      <th>res_sim_score</th>\n",
              "      <th>lin_sim_score</th>\n",
              "    </tr>\n",
              "  </thead>\n",
              "  <tbody>\n",
              "    <tr>\n",
              "      <th>MC_sim_score</th>\n",
              "      <td>1.000000</td>\n",
              "      <td>0.703810</td>\n",
              "      <td>0.735945</td>\n",
              "      <td>0.753510</td>\n",
              "    </tr>\n",
              "    <tr>\n",
              "      <th>path_sim_score</th>\n",
              "      <td>0.703810</td>\n",
              "      <td>1.000000</td>\n",
              "      <td>0.915506</td>\n",
              "      <td>0.954622</td>\n",
              "    </tr>\n",
              "    <tr>\n",
              "      <th>res_sim_score</th>\n",
              "      <td>0.735945</td>\n",
              "      <td>0.915506</td>\n",
              "      <td>1.000000</td>\n",
              "      <td>0.962707</td>\n",
              "    </tr>\n",
              "    <tr>\n",
              "      <th>lin_sim_score</th>\n",
              "      <td>0.753510</td>\n",
              "      <td>0.954622</td>\n",
              "      <td>0.962707</td>\n",
              "      <td>1.000000</td>\n",
              "    </tr>\n",
              "  </tbody>\n",
              "</table>\n",
              "</div>"
            ],
            "text/plain": [
              "                MC_sim_score  path_sim_score  res_sim_score  lin_sim_score\n",
              "MC_sim_score        1.000000        0.703810       0.735945       0.753510\n",
              "path_sim_score      0.703810        1.000000       0.915506       0.954622\n",
              "res_sim_score       0.735945        0.915506       1.000000       0.962707\n",
              "lin_sim_score       0.753510        0.954622       0.962707       1.000000"
            ]
          },
          "metadata": {
            "tags": []
          },
          "execution_count": 44
        }
      ]
    },
    {
      "cell_type": "markdown",
      "metadata": {
        "id": "pDlGPyJprBN8"
      },
      "source": [
        "# Distributional Similarity "
      ]
    },
    {
      "cell_type": "code",
      "metadata": {
        "colab": {
          "base_uri": "https://localhost:8080/"
        },
        "id": "JV8V5dWX5Mcw",
        "outputId": "66fd64b9-f553-4858-f42b-2ac2f400ac30"
      },
      "source": [
        "# Download GoogleNews-vectors-negative300.bin.gz\n",
        "!gdown --id 1uPazG10_1ODUI_JmKYcNFxJeQDXwnsLO\n",
        "!gunzip GoogleNews-vectors-negative300.bin.gz"
      ],
      "execution_count": 12,
      "outputs": [
        {
          "output_type": "stream",
          "text": [
            "Downloading...\n",
            "From: https://drive.google.com/uc?id=1uPazG10_1ODUI_JmKYcNFxJeQDXwnsLO\n",
            "To: /content/GoogleNews-vectors-negative300.bin.gz\n",
            "1.65GB [00:23, 70.5MB/s]\n"
          ],
          "name": "stdout"
        }
      ]
    },
    {
      "cell_type": "code",
      "metadata": {
        "id": "1iRVQOOS2I-v"
      },
      "source": [
        "filename=\"GoogleNews-vectors-negative300.bin\"\n",
        "model = KeyedVectors.load_word2vec_format(filename, binary=True)\n",
        "df[\"word2vec_sim_score\"] = df.apply(lambda row: model.similarity(row.Noun1, row.Noun2), axis=1)"
      ],
      "execution_count": 49,
      "outputs": []
    },
    {
      "cell_type": "code",
      "metadata": {
        "colab": {
          "base_uri": "https://localhost:8080/",
          "height": 271
        },
        "id": "8W3g3xYhjK1J",
        "outputId": "d9b162bd-2386-487b-a9ef-8bdfad5c5939"
      },
      "source": [
        "display(df.corr())\n",
        "conc = \"\"\"\n",
        "word2vec represents words as vectors and calculates cosine similarity between two such vectors.\n",
        "High correlation score with the human synonymy judgements.\n",
        "Relatively low scores with wordnet similarity.\n",
        "\"\"\"\n",
        "print(conc)"
      ],
      "execution_count": 50,
      "outputs": [
        {
          "output_type": "display_data",
          "data": {
            "text/html": [
              "<div>\n",
              "<style scoped>\n",
              "    .dataframe tbody tr th:only-of-type {\n",
              "        vertical-align: middle;\n",
              "    }\n",
              "\n",
              "    .dataframe tbody tr th {\n",
              "        vertical-align: top;\n",
              "    }\n",
              "\n",
              "    .dataframe thead th {\n",
              "        text-align: right;\n",
              "    }\n",
              "</style>\n",
              "<table border=\"1\" class=\"dataframe\">\n",
              "  <thead>\n",
              "    <tr style=\"text-align: right;\">\n",
              "      <th></th>\n",
              "      <th>MC_sim_score</th>\n",
              "      <th>path_sim_score</th>\n",
              "      <th>res_sim_score</th>\n",
              "      <th>lin_sim_score</th>\n",
              "      <th>word2vec_sim_score</th>\n",
              "    </tr>\n",
              "  </thead>\n",
              "  <tbody>\n",
              "    <tr>\n",
              "      <th>MC_sim_score</th>\n",
              "      <td>1.000000</td>\n",
              "      <td>0.742355</td>\n",
              "      <td>0.812641</td>\n",
              "      <td>0.805583</td>\n",
              "      <td>0.804206</td>\n",
              "    </tr>\n",
              "    <tr>\n",
              "      <th>path_sim_score</th>\n",
              "      <td>0.742355</td>\n",
              "      <td>1.000000</td>\n",
              "      <td>0.887540</td>\n",
              "      <td>0.875707</td>\n",
              "      <td>0.647897</td>\n",
              "    </tr>\n",
              "    <tr>\n",
              "      <th>res_sim_score</th>\n",
              "      <td>0.812641</td>\n",
              "      <td>0.887540</td>\n",
              "      <td>1.000000</td>\n",
              "      <td>0.964375</td>\n",
              "      <td>0.612334</td>\n",
              "    </tr>\n",
              "    <tr>\n",
              "      <th>lin_sim_score</th>\n",
              "      <td>0.805583</td>\n",
              "      <td>0.875707</td>\n",
              "      <td>0.964375</td>\n",
              "      <td>1.000000</td>\n",
              "      <td>0.597420</td>\n",
              "    </tr>\n",
              "    <tr>\n",
              "      <th>word2vec_sim_score</th>\n",
              "      <td>0.804206</td>\n",
              "      <td>0.647897</td>\n",
              "      <td>0.612334</td>\n",
              "      <td>0.597420</td>\n",
              "      <td>1.000000</td>\n",
              "    </tr>\n",
              "  </tbody>\n",
              "</table>\n",
              "</div>"
            ],
            "text/plain": [
              "                    MC_sim_score  ...  word2vec_sim_score\n",
              "MC_sim_score            1.000000  ...            0.804206\n",
              "path_sim_score          0.742355  ...            0.647897\n",
              "res_sim_score           0.812641  ...            0.612334\n",
              "lin_sim_score           0.805583  ...            0.597420\n",
              "word2vec_sim_score      0.804206  ...            1.000000\n",
              "\n",
              "[5 rows x 5 columns]"
            ]
          },
          "metadata": {
            "tags": []
          }
        },
        {
          "output_type": "stream",
          "text": [
            "\n",
            "word2vec represents words as vectors and calculates cosine similarity between two such vectors.\n",
            "High correlation score with the human synonymy judgements.\n",
            "Relatively low scores with wordnet similarity.\n",
            "\n"
          ],
          "name": "stdout"
        }
      ]
    },
    {
      "cell_type": "code",
      "metadata": {
        "id": "-G9lnjxynlKH"
      },
      "source": [
        "# Print table to markdown.\n",
        "# print(df.to_markdown())"
      ],
      "execution_count": 42,
      "outputs": []
    },
    {
      "cell_type": "markdown",
      "metadata": {
        "id": "U4eVMB_jof5G"
      },
      "source": [
        "# Extension: Significance Testing"
      ]
    },
    {
      "cell_type": "code",
      "metadata": {
        "colab": {
          "base_uri": "https://localhost:8080/",
          "height": 322
        },
        "id": "IVUcxpH9Nl_Q",
        "outputId": "fd14b811-cb31-4673-82f3-cc8ec1f65d41"
      },
      "source": [
        "col_names = df.columns.to_list()[3:]\n",
        "\n",
        "fig, axes = plt.subplots(nrows=1, ncols=len(col_names), figsize=(20, 5))\n",
        "for i, column in enumerate(col_names):\n",
        "  # Create title.\n",
        "  title = column.replace(\"_\",\" \").upper()\n",
        "\n",
        "  # Create plot.\n",
        "  df.plot.scatter(x=\"MC_sim_score\", y=column, ax=axes[i], title=title)\n",
        "\n",
        "  # Get scipy lin regression:\n",
        "  x = df[\"MC_sim_score\"]\n",
        "  y = df[column]\n",
        "  res = stats.linregress(x, y)\n",
        "  # Plot regression line.\n",
        "  axes[i].plot(x, res.intercept + res.slope * x, \"r\", label=\"Line of Best Fit\")\n",
        "  axes[i].legend()\n",
        "\n",
        "  # Get correlation coefficient and p value from spearmans.\n",
        "  rho, pval = stats.spearmanr(x, y)\n",
        "  text = \"rho: {}\\npval: {}\".format(round(rho,4),round(pval,10))\n",
        "  # Write rho and pval to figure.\n",
        "  y = axes[i].get_ylim()[1] / 12\n",
        "  axes[i].text(2,y,text,bbox=dict(facecolor='red', alpha=0.5))\n",
        "\n",
        "  print(\"{} correlation coefficient: {}\".format(column, math.sqrt(res.rvalue)))\n",
        "  \n",
        "fig.show()"
      ],
      "execution_count": 129,
      "outputs": [
        {
          "output_type": "stream",
          "text": [
            "path_sim_score correlation coefficient: 0.8616003518560421\n",
            "res_sim_score correlation coefficient: 0.9014658540398356\n",
            "lin_sim_score correlation coefficient: 0.897542786429843\n",
            "word2vec_sim_score correlation coefficient: 0.8967753734632006\n"
          ],
          "name": "stdout"
        },
        {
          "output_type": "display_data",
          "data": {
            "image/png": "[encoded data removed]",
            "text/plain": [
              "<Figure size 1440x360 with 4 Axes>"
            ]
          },
          "metadata": {
            "tags": [],
            "needs_background": "light"
          }
        }
      ]
    },
    {
      "cell_type": "code",
      "metadata": {
        "id": "YzJMBjFWfgnY"
      },
      "source": [
        ""
      ],
      "execution_count": null,
      "outputs": []
    }
  ]
}