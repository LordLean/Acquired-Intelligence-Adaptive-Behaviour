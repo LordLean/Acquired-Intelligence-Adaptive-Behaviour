{
  "nbformat": 4,
  "nbformat_minor": 0,
  "metadata": {
    "colab": {
      "name": "Perceptron_Logical.ipynb",
      "provenance": [],
      "collapsed_sections": [],
      "authorship_tag": "ABX9TyM+0bsPA6ovyUZwrd8xXNUY",
      "include_colab_link": true
    },
    "kernelspec": {
      "name": "python3",
      "display_name": "Python 3"
    }
  },
  "cells": [
    {
      "cell_type": "markdown",
      "metadata": {
        "id": "view-in-github",
        "colab_type": "text"
      },
      "source": [
        "<a href=\"https://colab.research.google.com/github/LordLean/Acquired-Intelligence-Adaptive-Behaviour/blob/master/AIAB_Labs/Perceptron_Logical.ipynb\" target=\"_parent\"><img src=\"https://colab.research.google.com/assets/colab-badge.svg\" alt=\"Open In Colab\"/></a>"
      ]
    },
    {
      "cell_type": "markdown",
      "metadata": {
        "id": "_daXCrzusm3n",
        "colab_type": "text"
      },
      "source": [
        "## **Logical AND Perceptron:**"
      ]
    },
    {
      "cell_type": "code",
      "metadata": {
        "id": "sGR4ZCXdslTs",
        "colab_type": "code",
        "colab": {}
      },
      "source": [
        "import numpy as np\n",
        "from math import exp \n",
        "import matplotlib.pyplot as plt\n",
        "import matplotlib.axes"
      ],
      "execution_count": 0,
      "outputs": []
    },
    {
      "cell_type": "code",
      "metadata": {
        "id": "d2tAq7DNxBzp",
        "colab_type": "code",
        "colab": {}
      },
      "source": [
        "class Perceptron(object):\n",
        "\n",
        "    def __init__(self, num_inputs, epochs=10000, learning_rate=0.1):\n",
        "      self.epochs = epochs # Number of iterations the learning algorithm goes through before ending defaulted to 1000 \n",
        "      self.learning_rate = learning_rate # Learning rate to determine magnitude of change for our weights during step\n",
        "      self.weights = np.random.rand(1,(num_inputs+1)).flatten()\n",
        "      self.graph_points = list()\n",
        "\n",
        "    def predict(self, inputs): # Inputs with a dimensions equal to that of num_inputs.\n",
        "      summation = np.dot(inputs, self.weights[1:]) + self.weights[0]\n",
        "      sigmoid = 1/(1+exp(-summation)) # Step function\n",
        "      return sigmoid\n",
        "\n",
        "    def train(self, training_inputs, labels):\n",
        "      epoch_count = 0\n",
        "      for _ in range(self.epochs+1): # Sorry this does now run for epochs+1 but it makes the graphical demo easier.\n",
        "        # Conditonal to record bias and weights at various epochs for visual demo.\n",
        "        for inputs, label in zip(training_inputs, labels): # label is expected output of the input vector stored in the `inputs` variable.\n",
        "          prediction = self.predict(inputs) # pass inputs vector into predict and store in prediction\n",
        "          self.weights[1:] += self.learning_rate * (label - prediction) * (prediction * (1-prediction)) * inputs\n",
        "          self.weights[0] += self.learning_rate * (label - prediction) * (prediction * (1-prediction))\n",
        "        if epoch_count in np.geomspace(10,self.epochs,num=4,dtype=int):\n",
        "          temp_list = list([epoch_count])\n",
        "          for i in range(3):\n",
        "            temp_list.append(self.weights[i])\n",
        "          self.graph_points.append(temp_list)\n",
        "        epoch_count+=1\n",
        "\n",
        "    def plot_epochs(self, gate_input):    \n",
        "      # Counter for measuring alpha.\n",
        "      alpha_count = 0\n",
        "      # Plotting linear seperability across various epochs for logical inputs.\n",
        "      for i in range(len(self.graph_points)):\n",
        "\n",
        "        decisionBoundary_bias = self.graph_points[i][1]\n",
        "        decisionBoundary_x1 = self.graph_points[i][2]\n",
        "        decisionBoundary_x2 = self.graph_points[i][3] \n",
        "\n",
        "        x = [(-decisionBoundary_bias / decisionBoundary_x1),0]\n",
        "        y = [0,(-decisionBoundary_bias / decisionBoundary_x2)]\n",
        "\n",
        "        alpha_count += 0.2\n",
        "        if i == len(self.graph_points)-1:\n",
        "          plt.plot(x,y,\"g--\")\n",
        "        else:\n",
        "          plt.plot(x,y,\"r--\",alpha=alpha_count)\n",
        "\n",
        "      # Plotting points on scatter \n",
        "      data_x = list()\n",
        "      data_y = list()\n",
        "      for point in gate_input: \n",
        "        data_x.append(point[0])\n",
        "        data_y.append(point[1])\n",
        "\n",
        "      plt.style.use(\"ggplot\")\n",
        "      plt.scatter(data_x, data_y,edgecolors=\"blue\")\n",
        "\n",
        "      for i, txt in enumerate(zip(data_x,data_y)):\n",
        "        plt.annotate(txt, (data_x[i],data_y[i]))"
      ],
      "execution_count": 0,
      "outputs": []
    },
    {
      "cell_type": "code",
      "metadata": {
        "id": "hTIyGtwQbjkc",
        "colab_type": "code",
        "colab": {
          "base_uri": "https://localhost:8080/",
          "height": 54
        },
        "outputId": "6e2f9af6-eb0e-46e1-de82-bf263321e439"
      },
      "source": [
        "    '''\n",
        "    def predict_old(self, inputs): # Inputs with a dimensions equal to that of num_inputs.\n",
        "      summation = np.dot(inputs, self.weights[1:]) + self.weights[0]\n",
        "      if summation > 0: # Step function\n",
        "        activation = 1\n",
        "      else:\n",
        "        activation = 0 # activation for the sake of being explicit.\n",
        "      return activation\n",
        "\n",
        "    def train_old(self, training_inputs, labels):\n",
        "      for _ in range(self.epochs): \n",
        "        for inputs, label in zip(training_inputs, labels):\n",
        "          # label is expected output of the input vector stored in the `inputs` variable.\n",
        "          prediction = self.predict(inputs) # pass inputs vector into predict and store in prediction\n",
        "          self.weights[1:] += self.learning_rate * (label - prediction) * inputs\n",
        "          self.weights[0] += self.learning_rate * (label - prediction)\n",
        "    '''"
      ],
      "execution_count": 237,
      "outputs": [
        {
          "output_type": "execute_result",
          "data": {
            "text/plain": [
              "'\\ndef predict_old(self, inputs): # Inputs with a dimensions equal to that of num_inputs.\\n  summation = np.dot(inputs, self.weights[1:]) + self.weights[0]\\n  if summation > 0: # Step function\\n    activation = 1\\n  else:\\n    activation = 0 # activation for the sake of being explicit.\\n  return activation\\n\\ndef train_old(self, training_inputs, labels):\\n  for _ in range(self.epochs): \\n    for inputs, label in zip(training_inputs, labels):\\n      # label is expected output of the input vector stored in the `inputs` variable.\\n      prediction = self.predict(inputs) # pass inputs vector into predict and store in prediction\\n      self.weights[1:] += self.learning_rate * (label - prediction) * inputs\\n      self.weights[0] += self.learning_rate * (label - prediction)\\n'"
            ]
          },
          "metadata": {
            "tags": []
          },
          "execution_count": 237
        }
      ]
    },
    {
      "cell_type": "markdown",
      "metadata": {
        "id": "HypfZaBx4jQ_",
        "colab_type": "text"
      },
      "source": [
        "To determine weights:\n",
        "* predicts an output based on current weights and inputs\n",
        "* compares it to expected output (label)\n",
        "* updates its weights if the prediction != the label\n",
        "* iterate until epoch threshold is reached\n",
        "\n",
        "To update weights each iteration:\n",
        "* finds error by subtracting the prediction from the label\n",
        "* multiplies the error and the learning rate\n",
        "* multiplies the result to the inputs\n",
        "* adds the resulting vector to the weight vector"
      ]
    },
    {
      "cell_type": "code",
      "metadata": {
        "id": "BNPuijNPz_3l",
        "colab_type": "code",
        "colab": {}
      },
      "source": [
        "AND_input = np.array([[0,0],[0,1],[1,0],[1,1]])\n",
        "AND_output = np.array([0,0,0,1])\n",
        "\n",
        "OR_input = np.array([[0,0],[0,1],[1,0],[1,1]])\n",
        "OR_output = np.array([0,1,1,1])"
      ],
      "execution_count": 0,
      "outputs": []
    },
    {
      "cell_type": "code",
      "metadata": {
        "id": "7-x3yXe_eIkh",
        "colab_type": "code",
        "colab": {}
      },
      "source": [
        "perceptron_AND = Perceptron(2)\n",
        "perceptron_OR = Perceptron(2)"
      ],
      "execution_count": 0,
      "outputs": []
    },
    {
      "cell_type": "code",
      "metadata": {
        "colab_type": "code",
        "outputId": "2d416ac3-17f7-4b3d-84c9-546d7192d30b",
        "id": "_BT4vvppX6Ng",
        "colab": {
          "base_uri": "https://localhost:8080/",
          "height": 408
        }
      },
      "source": [
        "# AND\n",
        "print(\"Logical AND - Untrained\")\n",
        "for inputs in AND_input:\n",
        "  print(\"Input:\",inputs, perceptron_AND.predict(inputs),\"Output\")\n",
        "print()\n",
        "# Training - AND\n",
        "perceptron_AND.train(AND_input,AND_output)\n",
        "print(\"Logical AND - Trained\")\n",
        "for inputs in AND_input:\n",
        "  print(\"Input:\",inputs, round(perceptron_AND.predict(inputs),4),\"Output\")\n",
        "print()\n",
        "\n",
        "# OR\n",
        "print(\"Logical OR - Untrained\")\n",
        "for inputs in OR_input:\n",
        "  print(\"Input:\",inputs, perceptron_OR.predict(inputs),\"Output\")\n",
        "print()\n",
        "# Training - OR\n",
        "perceptron_OR.train(OR_input,OR_output)\n",
        "print(\"Logical OR - Trained\")\n",
        "for inputs in OR_input:\n",
        "  print(\"Input:\",inputs, round(perceptron_OR.predict(inputs),4),\"Output\")"
      ],
      "execution_count": 240,
      "outputs": [
        {
          "output_type": "stream",
          "text": [
            "Logical AND - Untrained\n",
            "Input: [0 0] 0.6252940230530994 Output\n",
            "Input: [0 1] 0.7267596800576124 Output\n",
            "Input: [1 0] 0.7134539752347402 Output\n",
            "Input: [1 1] 0.7987311131374235 Output\n",
            "\n",
            "Logical AND - Trained\n",
            "Input: [0 0] 0.0002 Output\n",
            "Input: [0 1] 0.0556 Output\n",
            "Input: [1 0] 0.0556 Output\n",
            "Input: [1 1] 0.9339 Output\n",
            "\n",
            "Logical OR - Untrained\n",
            "Input: [0 0] 0.5640808563262341 Output\n",
            "Input: [0 1] 0.7695241677512129 Output\n",
            "Input: [1 0] 0.6566315888531838 Output\n",
            "Input: [1 1] 0.8314872685318209 Output\n",
            "\n",
            "Logical OR - Trained\n",
            "Input: [0 0] 0.0549 Output\n",
            "Input: [0 1] 0.9657 Output\n",
            "Input: [1 0] 0.9657 Output\n",
            "Input: [1 1] 0.9999 Output\n"
          ],
          "name": "stdout"
        }
      ]
    },
    {
      "cell_type": "code",
      "metadata": {
        "id": "ok-yvzR_YC-f",
        "colab_type": "code",
        "colab": {
          "base_uri": "https://localhost:8080/",
          "height": 265
        },
        "outputId": "7c8da0d5-d319-4a9f-b05f-b565584ead42"
      },
      "source": [
        "perceptron_AND.plot_epochs(AND_input)"
      ],
      "execution_count": 241,
      "outputs": [
        {
          "output_type": "display_data",
          "data": {
            "image/png": "[encoded data removed]",
            "text/plain": [
              "<Figure size 432x288 with 1 Axes>"
            ]
          },
          "metadata": {
            "tags": []
          }
        }
      ]
    },
    {
      "cell_type": "code",
      "metadata": {
        "id": "hD3XmFmFYGuv",
        "colab_type": "code",
        "colab": {
          "base_uri": "https://localhost:8080/",
          "height": 265
        },
        "outputId": "c9bf992c-4741-4097-9e44-6d123d2dc17f"
      },
      "source": [
        "perceptron_OR.plot_epochs(OR_input)"
      ],
      "execution_count": 242,
      "outputs": [
        {
          "output_type": "display_data",
          "data": {
            "image/png": "[encoded data removed]",
            "text/plain": [
              "<Figure size 432x288 with 1 Axes>"
            ]
          },
          "metadata": {
            "tags": []
          }
        }
      ]
    }
  ]
}