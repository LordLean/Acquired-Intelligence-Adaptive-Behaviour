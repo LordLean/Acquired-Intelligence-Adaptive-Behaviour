{
  "nbformat": 4,
  "nbformat_minor": 0,
  "metadata": {
    "colab": {
      "name": "Perceptron_Logical.ipynb",
      "provenance": [],
      "collapsed_sections": [],
      "authorship_tag": "ABX9TyOXiws4cQeBQb+/LPNjJBES",
      "include_colab_link": true
    },
    "kernelspec": {
      "name": "python3",
      "display_name": "Python 3"
    }
  },
  "cells": [
    {
      "cell_type": "markdown",
      "metadata": {
        "id": "view-in-github",
        "colab_type": "text"
      },
      "source": [
        "<a href=\"https://colab.research.google.com/github/LordLean/Acquired-Intelligence-Adaptive-Behaviour/blob/master/AIAB_Labs/Perceptron_Logical.ipynb\" target=\"_parent\"><img src=\"https://colab.research.google.com/assets/colab-badge.svg\" alt=\"Open In Colab\"/></a>"
      ]
    },
    {
      "cell_type": "markdown",
      "metadata": {
        "id": "_daXCrzusm3n",
        "colab_type": "text"
      },
      "source": [
        "## **Logical Perceptron:**"
      ]
    },
    {
      "cell_type": "code",
      "metadata": {
        "id": "sGR4ZCXdslTs",
        "colab_type": "code",
        "colab": {}
      },
      "source": [
        "import numpy as np\n",
        "from math import exp \n",
        "import matplotlib.pyplot as plt\n",
        "import matplotlib.axes\n",
        "from google.colab import files"
      ],
      "execution_count": 0,
      "outputs": []
    },
    {
      "cell_type": "code",
      "metadata": {
        "id": "d2tAq7DNxBzp",
        "colab_type": "code",
        "colab": {}
      },
      "source": [
        "class Perceptron(object):\n",
        "\n",
        "    def __init__(self, num_inputs, epochs=1000, learning_rate=0.1):\n",
        "      self.epochs = epochs # Number of iterations the learning algorithm goes through before ending defaulted to 1000 \n",
        "      self.learning_rate = learning_rate # Learning rate to determine magnitude of change for our weights during step\n",
        "      self.weights = np.random.rand(1,(num_inputs+1)).flatten()\n",
        "      self.graph_points = list()\n",
        "\n",
        "\n",
        "    def predict(self, inputs): # Inputs with a dimensions equal to that of num_inputs.\n",
        "      summation = np.dot(inputs, self.weights[1:]) + self.weights[0]\n",
        "      sigmoid = 1/(1+exp(-summation)) # sigmoid function\n",
        "      return sigmoid\n",
        "\n",
        "\n",
        "    def train(self, training_inputs, labels):\n",
        "      epoch_count = 0\n",
        "      for _ in range(self.epochs+1): # This does now run for epochs+1 but it makes the graphical demo easier.\n",
        "        for inputs, label in zip(training_inputs, labels): # label is expected output of the input vector stored in the `inputs` variable.\n",
        "          prediction = self.predict(inputs) # pass inputs vector into predict and store in prediction\n",
        "          self.weights[1:] += self.learning_rate * (label - prediction) * (prediction * (1-prediction)) * inputs\n",
        "          self.weights[0] += self.learning_rate * (label - prediction) * (prediction * (1-prediction))   \n",
        "  # Following code is not essential for the perceptron however is good for interpreting data.\n",
        "        # Conditonal to record bias and weights at various epochs for visual demo.\n",
        "        if epoch_count in np.linspace(1,self.epochs,num=4,dtype=int):\n",
        "          temp_list = list([epoch_count])\n",
        "          for i in range(3):\n",
        "            temp_list.append(self.weights[i])\n",
        "          self.graph_points.append(temp_list)\n",
        "        epoch_count+=1\n",
        "\n",
        "\n",
        "    def untrain(self, num_inputs):\n",
        "      self.weights = np.random.rand(1,(num_inputs+1)).flatten()\n",
        "      self.graph_points = list()\n",
        "\n",
        "\n",
        "    def train_and_display(self, training_inputs, labels, rounded=True):\n",
        "      # Gate - Untrained\n",
        "      gate_input = training_inputs\n",
        "      # Display untrained:\n",
        "      print(\"Untrained\")\n",
        "      for inputs in gate_input:\n",
        "        print(\"Input:\",inputs, round(self.predict(inputs), 4),\"Output\")\n",
        "      print()\n",
        "      # Training\n",
        "      self.train(training_inputs, labels)\n",
        "      # Display trained:\n",
        "      print(\"Trained\")\n",
        "      for inputs in gate_input:\n",
        "        # Round outputs to nearest int to return binary classification.\n",
        "        if rounded == False:\n",
        "          print(\"Input:\",inputs, round(self.predict(inputs), 4),\"Output\")\n",
        "        else:\n",
        "          print(\"Input:\",inputs, int(round(self.predict(inputs))),\"Output\")\n",
        "      print()\n",
        "\n",
        "\n",
        "    def plot_epochs(self, gate_input):    \n",
        "      # Counter for measuring alpha.\n",
        "      alpha_count = 0\n",
        "      # Plotting linear seperability across various epochs for logical inputs.\n",
        "      for i in range(len(self.graph_points)):\n",
        "\n",
        "        current_epoch = self.graph_points[i][0]\n",
        "        decisionBoundary_bias = self.graph_points[i][1]\n",
        "        # Weight one.\n",
        "        decisionBoundary_x1 = self.graph_points[i][2]\n",
        "        # Weight two.\n",
        "        decisionBoundary_x2 = self.graph_points[i][3] \n",
        "\n",
        "        x = [(-decisionBoundary_bias / decisionBoundary_x1),0]\n",
        "        y = [0,(-decisionBoundary_bias / decisionBoundary_x2)]\n",
        "\n",
        "        # Vary alpha across decision boundaries for ease of viewing.\n",
        "        alpha_count += 0.2\n",
        "\n",
        "        if i == len(self.graph_points)-1:\n",
        "          # Final decision boundary plotted in green.\n",
        "          plt.plot(x,y,\"g\", label=(str(current_epoch)+\" Epochs\"))\n",
        "        else:\n",
        "          plt.plot(x,y,\"r--\",alpha=min(alpha_count,1), label=(str(current_epoch)+\" Epochs\")) # min to avoid alpha > 1.\n",
        "        \n",
        "        # Labelling plotted lines with current epoch value.\n",
        "        #plt.text(x[0], y[0], current_epoch, fontsize=9)\n",
        "\n",
        "      # Labelling legend with current epoch value per line.\n",
        "      plt.legend()\n",
        "\n",
        "      # Plotting points on scatter.\n",
        "      data_x = list()\n",
        "      data_y = list()\n",
        "      for point in gate_input: \n",
        "        data_x.append(point[0])\n",
        "        data_y.append(point[1])\n",
        "\n",
        "      plt.style.use(\"ggplot\")\n",
        "      plt.scatter(data_x, data_y,edgecolors=\"blue\")\n",
        "      # Label data points on graph. \n",
        "      for i, txt in enumerate(zip(data_x,data_y)):\n",
        "        plt.annotate(txt, (data_x[i],data_y[i]))\n",
        "\n",
        "\n",
        "        # Download pyplot plots onto local machine - uncomment if necessary.\n",
        "        #plt.savefig(\"LogicGate.png\")\n",
        "        #files.download(\"LogicGate.png\")\n",
        "      "
      ],
      "execution_count": 0,
      "outputs": []
    },
    {
      "cell_type": "markdown",
      "metadata": {
        "id": "HypfZaBx4jQ_",
        "colab_type": "text"
      },
      "source": [
        "To determine weights:\n",
        "* predicts an output based on current weights and inputs\n",
        "* compares it to expected output (label)\n",
        "* updates its weights if the prediction != the label\n",
        "* iterate until epoch threshold is reached\n",
        "\n",
        "To update weights each iteration:\n",
        "* finds error by subtracting the prediction from the label\n",
        "* multiplies the error and the learning rate\n",
        "* multiplies the result to the inputs\n",
        "* adds the resulting vector to the weight vector"
      ]
    },
    {
      "cell_type": "code",
      "metadata": {
        "id": "BNPuijNPz_3l",
        "colab_type": "code",
        "colab": {}
      },
      "source": [
        "inputs = np.array([[0,0],[0,1],[1,0],[1,1]])\n",
        "\n",
        "AND_output = np.array([0,0,0,1])\n",
        "OR_output = np.array([0,1,1,1])\n",
        "\n",
        "NOT_input = np.array([[0,0],[1,1]])\n",
        "NOT_output = np.array([1,0])"
      ],
      "execution_count": 0,
      "outputs": []
    },
    {
      "cell_type": "code",
      "metadata": {
        "id": "7-x3yXe_eIkh",
        "colab_type": "code",
        "colab": {}
      },
      "source": [
        "perceptron_AND = Perceptron(2)\n",
        "perceptron_OR = Perceptron(2)\n",
        "perceptron_NOT = Perceptron(2)"
      ],
      "execution_count": 0,
      "outputs": []
    },
    {
      "cell_type": "code",
      "metadata": {
        "id": "41pBdz8Ir4ea",
        "colab_type": "code",
        "outputId": "9199b959-f68d-4c3c-d5e2-bb62d7013f7f",
        "colab": {
          "base_uri": "https://localhost:8080/",
          "height": 646
        }
      },
      "source": [
        "print(\"AND\")\n",
        "perceptron_AND.train_and_display(inputs,AND_output, rounded=True)\n",
        "print()\n",
        "print(\"OR\")\n",
        "perceptron_OR.train_and_display(inputs,OR_output)\n",
        "print()\n",
        "print(\"NOT\")\n",
        "perceptron_NOT.train_and_display(NOT_input,NOT_output)"
      ],
      "execution_count": 139,
      "outputs": [
        {
          "output_type": "stream",
          "text": [
            "AND\n",
            "Untrained\n",
            "Input: [0 0] 0.0169 Output\n",
            "Input: [0 1] 0.1924 Output\n",
            "Input: [1 0] 0.1926 Output\n",
            "Input: [1 1] 0.7679 Output\n",
            "\n",
            "Trained\n",
            "Input: [0 0] 0 Output\n",
            "Input: [0 1] 0 Output\n",
            "Input: [1 0] 0 Output\n",
            "Input: [1 1] 1 Output\n",
            "\n",
            "\n",
            "OR\n",
            "Untrained\n",
            "Input: [0 0] 0.2046 Output\n",
            "Input: [0 1] 0.879 Output\n",
            "Input: [1 0] 0.8777 Output\n",
            "Input: [1 1] 0.9951 Output\n",
            "\n",
            "Trained\n",
            "Input: [0 0] 0 Output\n",
            "Input: [0 1] 1 Output\n",
            "Input: [1 0] 1 Output\n",
            "Input: [1 1] 1 Output\n",
            "\n",
            "\n",
            "NOT\n",
            "Untrained\n",
            "Input: [0 0] 0.8782 Output\n",
            "Input: [1 1] 0.0833 Output\n",
            "\n",
            "Trained\n",
            "Input: [0 0] 1 Output\n",
            "Input: [1 1] 0 Output\n",
            "\n"
          ],
          "name": "stdout"
        }
      ]
    },
    {
      "cell_type": "code",
      "metadata": {
        "id": "ok-yvzR_YC-f",
        "colab_type": "code",
        "outputId": "26c7a39a-bd45-482f-eb51-570b82718686",
        "colab": {
          "base_uri": "https://localhost:8080/",
          "height": 265
        }
      },
      "source": [
        "perceptron_AND.plot_epochs(inputs)"
      ],
      "execution_count": 126,
      "outputs": [
        {
          "output_type": "display_data",
          "data": {
            "image/png": "[encoded data removed]",
            "text/plain": [
              "<Figure size 432x288 with 1 Axes>"
            ]
          },
          "metadata": {
            "tags": []
          }
        }
      ]
    },
    {
      "cell_type": "code",
      "metadata": {
        "id": "hD3XmFmFYGuv",
        "colab_type": "code",
        "outputId": "9e18cf69-e698-4bbb-8b5a-4d5915512af5",
        "colab": {
          "base_uri": "https://localhost:8080/",
          "height": 265
        }
      },
      "source": [
        "perceptron_OR.plot_epochs(inputs)"
      ],
      "execution_count": 127,
      "outputs": [
        {
          "output_type": "display_data",
          "data": {
            "image/png": "[encoded data removed]",
            "text/plain": [
              "<Figure size 432x288 with 1 Axes>"
            ]
          },
          "metadata": {
            "tags": []
          }
        }
      ]
    },
    {
      "cell_type": "code",
      "metadata": {
        "id": "aV5mfC0YM4y-",
        "colab_type": "code",
        "colab": {
          "base_uri": "https://localhost:8080/",
          "height": 265
        },
        "outputId": "7045a7cb-fffc-4430-ff98-1df0e88889f7"
      },
      "source": [
        "perceptron_NOT.plot_epochs(NOT_input)"
      ],
      "execution_count": 128,
      "outputs": [
        {
          "output_type": "display_data",
          "data": {
            "image/png": "[encoded data removed]",
            "text/plain": [
              "<Figure size 432x288 with 1 Axes>"
            ]
          },
          "metadata": {
            "tags": []
          }
        }
      ]
    },
    {
      "cell_type": "code",
      "metadata": {
        "id": "hTIyGtwQbjkc",
        "colab_type": "code",
        "outputId": "857e23a5-924a-442d-987e-b0ceea6adeb2",
        "colab": {
          "base_uri": "https://localhost:8080/",
          "height": 54
        }
      },
      "source": [
        "'''\n",
        "  def predict_old(self, inputs): # Inputs with a dimensions equal to that of num_inputs.\n",
        "    summation = np.dot(inputs, self.weights[1:]) + self.weights[0]\n",
        "    if summation > 0: # Step function\n",
        "      activation = 1\n",
        "    else:\n",
        "      activation = 0 # activation for the sake of being explicit.\n",
        "    return activation\n",
        "\n",
        "  def train_old(self, training_inputs, labels):\n",
        "    for _ in range(self.epochs): \n",
        "      for inputs, label in zip(training_inputs, labels):\n",
        "        # label is expected output of the input vector stored in the `inputs` variable.\n",
        "        prediction = self.predict(inputs) # pass inputs vector into predict and store in prediction\n",
        "        self.weights[1:] += self.learning_rate * (label - prediction) * inputs\n",
        "        self.weights[0] += self.learning_rate * (label - prediction)\n",
        "'''"
      ],
      "execution_count": 123,
      "outputs": [
        {
          "output_type": "execute_result",
          "data": {
            "text/plain": [
              "'\\n  def predict_old(self, inputs): # Inputs with a dimensions equal to that of num_inputs.\\n    summation = np.dot(inputs, self.weights[1:]) + self.weights[0]\\n    if summation > 0: # Step function\\n      activation = 1\\n    else:\\n      activation = 0 # activation for the sake of being explicit.\\n    return activation\\n\\n  def train_old(self, training_inputs, labels):\\n    for _ in range(self.epochs): \\n      for inputs, label in zip(training_inputs, labels):\\n        # label is expected output of the input vector stored in the `inputs` variable.\\n        prediction = self.predict(inputs) # pass inputs vector into predict and store in prediction\\n        self.weights[1:] += self.learning_rate * (label - prediction) * inputs\\n        self.weights[0] += self.learning_rate * (label - prediction)\\n'"
            ]
          },
          "metadata": {
            "tags": []
          },
          "execution_count": 123
        }
      ]
    },
    {
      "cell_type": "code",
      "metadata": {
        "colab_type": "code",
        "id": "_BT4vvppX6Ng",
        "colab": {
          "base_uri": "https://localhost:8080/",
          "height": 54
        },
        "outputId": "3843571e-7325-4585-a89a-2ac177863921"
      },
      "source": [
        "'''\n",
        "# AND\n",
        "print(\"Logical AND - Untrained\")\n",
        "for inputs in AND_input:\n",
        "  print(\"Input:\",inputs, perceptron_AND.predict(inputs),\"Output\")\n",
        "print()\n",
        "# Training - AND\n",
        "perceptron_AND.train(AND_input,AND_output)\n",
        "print(\"Logical AND - Trained\")\n",
        "for inputs in AND_input:\n",
        "  print(\"Input:\",inputs, round(perceptron_AND.predict(inputs),4),\"Output\")\n",
        "print()\n",
        "\n",
        "# OR\n",
        "print(\"Logical OR - Untrained\")\n",
        "for inputs in OR_input:\n",
        "  print(\"Input:\",inputs, perceptron_OR.predict(inputs),\"Output\")\n",
        "print()\n",
        "# Training - OR\n",
        "perceptron_OR.train(OR_input,OR_output)\n",
        "print(\"Logical OR - Trained\")\n",
        "for inputs in OR_input:\n",
        "  print(\"Input:\",inputs, round(perceptron_OR.predict(inputs),4),\"Output\")\n",
        "'''"
      ],
      "execution_count": 10,
      "outputs": [
        {
          "output_type": "execute_result",
          "data": {
            "text/plain": [
              "'\\n# AND\\nprint(\"Logical AND - Untrained\")\\nfor inputs in AND_input:\\n  print(\"Input:\",inputs, perceptron_AND.predict(inputs),\"Output\")\\nprint()\\n# Training - AND\\nperceptron_AND.train(AND_input,AND_output)\\nprint(\"Logical AND - Trained\")\\nfor inputs in AND_input:\\n  print(\"Input:\",inputs, round(perceptron_AND.predict(inputs),4),\"Output\")\\nprint()\\n\\n# OR\\nprint(\"Logical OR - Untrained\")\\nfor inputs in OR_input:\\n  print(\"Input:\",inputs, perceptron_OR.predict(inputs),\"Output\")\\nprint()\\n# Training - OR\\nperceptron_OR.train(OR_input,OR_output)\\nprint(\"Logical OR - Trained\")\\nfor inputs in OR_input:\\n  print(\"Input:\",inputs, round(perceptron_OR.predict(inputs),4),\"Output\")\\n'"
            ]
          },
          "metadata": {
            "tags": []
          },
          "execution_count": 10
        }
      ]
    },
    {
      "cell_type": "code",
      "metadata": {
        "id": "UWYzEcykGTep",
        "colab_type": "code",
        "colab": {
          "base_uri": "https://localhost:8080/",
          "height": 54
        },
        "outputId": "e7f8f04e-0fb6-4118-f0f8-41394ba29677"
      },
      "source": [
        "''' To plot on the same plot rather than separate per epoch.\n",
        "def plot_epochs(self, gate_input):    \n",
        "      # Counter for measuring alpha.\n",
        "      alpha_count = 0\n",
        "      # Plotting linear seperability across various epochs for logical inputs.\n",
        "      for i in range(len(self.graph_points)):\n",
        "\n",
        "        current_epoch = self.graph_points[i][0]\n",
        "        decisionBoundary_bias = self.graph_points[i][1]\n",
        "        # Weight one.\n",
        "        decisionBoundary_x1 = self.graph_points[i][2]\n",
        "        # Weight two.\n",
        "        decisionBoundary_x2 = self.graph_points[i][3] \n",
        "\n",
        "        x = [(-decisionBoundary_bias / decisionBoundary_x1),0]\n",
        "        y = [0,(-decisionBoundary_bias / decisionBoundary_x2)]\n",
        "\n",
        "        # Vary alpha across decision boundaries for ease of viewing.\n",
        "        alpha_count += 0.2\n",
        "\n",
        "        if i == len(self.graph_points)-1:\n",
        "          # Final decision boundary plotted in green.\n",
        "          plt.plot(x,y,\"g--\")\n",
        "        else:\n",
        "          plt.plot(x,y,\"r--\",alpha=min(alpha_count,1)) # min to avoid alpha > 1.\n",
        "        \n",
        "        # Labelling plotted lines with current epoch step.\n",
        "        #plt.text(x[0], y[0], current_epoch, fontsize=9)\n",
        "\n",
        "      # Plotting points on scatter.\n",
        "      data_x = list()\n",
        "      data_y = list()\n",
        "      for point in gate_input: \n",
        "        data_x.append(point[0])\n",
        "        data_y.append(point[1])\n",
        "\n",
        "      plt.style.use(\"ggplot\")\n",
        "      plt.scatter(data_x, data_y,edgecolors=\"blue\")\n",
        "      # Label data points on graph. \n",
        "      for i, txt in enumerate(zip(data_x,data_y)):\n",
        "        plt.annotate(txt, (data_x[i],data_y[i]))\n",
        "\n",
        "      # Download pyplot plots onto local machine - uncomment if necessary.\n",
        "      #plt.savefig(\"LogicGate.png\")\n",
        "      #files.download(\"LogicGate.png\")\n",
        "'''"
      ],
      "execution_count": 11,
      "outputs": [
        {
          "output_type": "execute_result",
          "data": {
            "text/plain": [
              "' To plot on the same plot rather than separate per epoch.\\ndef plot_epochs(self, gate_input):    \\n      # Counter for measuring alpha.\\n      alpha_count = 0\\n      # Plotting linear seperability across various epochs for logical inputs.\\n      for i in range(len(self.graph_points)):\\n\\n        current_epoch = self.graph_points[i][0]\\n        decisionBoundary_bias = self.graph_points[i][1]\\n        # Weight one.\\n        decisionBoundary_x1 = self.graph_points[i][2]\\n        # Weight two.\\n        decisionBoundary_x2 = self.graph_points[i][3] \\n\\n        x = [(-decisionBoundary_bias / decisionBoundary_x1),0]\\n        y = [0,(-decisionBoundary_bias / decisionBoundary_x2)]\\n\\n        # Vary alpha across decision boundaries for ease of viewing.\\n        alpha_count += 0.2\\n\\n        if i == len(self.graph_points)-1:\\n          # Final decision boundary plotted in green.\\n          plt.plot(x,y,\"g--\")\\n        else:\\n          plt.plot(x,y,\"r--\",alpha=min(alpha_count,1)) # min to avoid alpha > 1.\\n        \\n        # Labelling plotted lines with current epoch step.\\n        #plt.text(x[0], y[0], current_epoch, fontsize=9)\\n\\n      # Plotting points on scatter.\\n      data_x = list()\\n      data_y = list()\\n      for point in gate_input: \\n        data_x.append(point[0])\\n        data_y.append(point[1])\\n\\n      plt.style.use(\"ggplot\")\\n      plt.scatter(data_x, data_y,edgecolors=\"blue\")\\n      # Label data points on graph. \\n      for i, txt in enumerate(zip(data_x,data_y)):\\n        plt.annotate(txt, (data_x[i],data_y[i]))\\n\\n      # Download pyplot plots onto local machine - uncomment if necessary.\\n      #plt.savefig(\"LogicGate.png\")\\n      #files.download(\"LogicGate.png\")\\n'"
            ]
          },
          "metadata": {
            "tags": []
          },
          "execution_count": 11
        }
      ]
    }
  ]
}