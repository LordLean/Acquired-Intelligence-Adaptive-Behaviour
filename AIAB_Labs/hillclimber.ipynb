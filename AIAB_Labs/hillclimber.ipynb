{
  "nbformat": 4,
  "nbformat_minor": 0,
  "metadata": {
    "colab": {
      "name": "hillclimber.ipynb",
      "provenance": [],
      "collapsed_sections": [],
      "authorship_tag": "ABX9TyO7Fj4PNsbRPanzquxGea25",
      "include_colab_link": true
    },
    "kernelspec": {
      "name": "python3",
      "display_name": "Python 3"
    }
  },
  "cells": [
    {
      "cell_type": "markdown",
      "metadata": {
        "id": "view-in-github",
        "colab_type": "text"
      },
      "source": [
        "<a href=\"https://colab.research.google.com/github/LordLean/Acquired-Intelligence-Adaptive-Behaviour/blob/master/AIAB_Labs/hillclimber.ipynb\" target=\"_parent\"><img src=\"https://colab.research.google.com/assets/colab-badge.svg\" alt=\"Open In Colab\"/></a>"
      ]
    },
    {
      "cell_type": "code",
      "metadata": {
        "id": "glh9fy9uyzD5",
        "colab_type": "code",
        "colab": {}
      },
      "source": [
        "import numpy as np\n",
        "import random\n",
        "import matplotlib.pyplot as plt"
      ],
      "execution_count": 0,
      "outputs": []
    },
    {
      "cell_type": "code",
      "metadata": {
        "id": "JRFa_t4py0dO",
        "colab_type": "code",
        "colab": {}
      },
      "source": [
        "# (benefit, cost)\n",
        "knapsack = [(5,3),(6,2),(1,4),(9,5),(2,8),(8,9),(4,10),(3,1),(7,6),(10,7)]"
      ],
      "execution_count": 0,
      "outputs": []
    },
    {
      "cell_type": "code",
      "metadata": {
        "id": "TpE2cTYZx_-i",
        "colab_type": "code",
        "colab": {}
      },
      "source": [
        "class HillClimber(object):\n",
        "  \n",
        "\n",
        "  def __init__(self, kp, capacity, epochs=100, mutation_rate=0.3):\n",
        "    self.kp = kp # Knapsack to be evaluated.\n",
        "    self.epochs = epochs # Evolutions if max capacity has not been reached. \n",
        "    self.mutation_rate = mutation_rate # Mutation rate to effect rate of evolution.\n",
        "    self.capacity = capacity # Knapsack capacity.\n",
        "    self.shape = len(self.kp) # Shape of desired genotype.\n",
        "    self.genotype = np.zeros(self.shape, dtype=int) # Store the current optimal working genotype for this HC.\n",
        "    self.fitness_values = list() # Hold fitness values across evolutions for graphical representation.\n",
        "\n",
        "\n",
        "  def initalize(self, print_results=False):\n",
        "    # Enter while loop:\n",
        "    current_sum = self.capacity + 1\n",
        "    # Ensure random values do not cause a cost above capacity.\n",
        "    while current_sum > self.capacity:\n",
        "      for i, _ in enumerate(self.genotype):\n",
        "        num = random.uniform(0,1)  \n",
        "        self.genotype[i] = np.round(num)\n",
        "        # Update current sum until it holds a value less than capacity.\n",
        "        current_sum =  np.sum([self.kp[i][1] * self.genotype[i] for i, _ in enumerate(self.kp)])\n",
        "    if print_results:\n",
        "      # Inital Results of this HillClimber :\n",
        "      initial_bene = np.sum([self.kp[i][0] * self.genotype[i] for i, _ in enumerate(self.kp)])\n",
        "      initial_cost = np.sum([self.kp[i][1] * self.genotype[i] for i, _ in enumerate(self.kp)])  \n",
        "      print(\"Initial Benefit: {} \\nInitial Cost: {}\".format(initial_bene,initial_cost))\n",
        "\n",
        "\n",
        "  def mutate(self):\n",
        "    # Declare variable to hold mutated genotype\n",
        "    mutated_genotype = np.zeros(self.shape, dtype=int)\n",
        "    # Setup: while loop.\n",
        "    current_sum = self.capacity + 1\n",
        "    # Values will be reassigned until the mutated genotype cost is below capacity.\n",
        "    while current_sum > self.capacity:\n",
        "      # Copy genotype to temporary genotype.\n",
        "      mutated_genotype = np.copy(self.genotype)\n",
        "      for i, _ in enumerate(mutated_genotype):\n",
        "        num = random.uniform(0,1)  \n",
        "        # Allow mutation rate to reassign values.\n",
        "        if num < self.mutation_rate:\n",
        "          # If \"on\" switch off.\n",
        "          if mutated_genotype[i]:\n",
        "            mutated_genotype[i] = 0\n",
        "          # If \"off\" switch on.\n",
        "          else:\n",
        "            mutated_genotype[i] = 1\n",
        "      # Update current sum for the while loop to evaluate.\n",
        "      current_sum =  np.sum([self.kp[i][1] * mutated_genotype[i] for i, _ in enumerate(self.kp)])\n",
        "    # Return mutated genotype to be used for comparison.\n",
        "    return mutated_genotype\n",
        "\n",
        "\n",
        "  def fitness(self, parent_geno, child_geno):\n",
        "    # Parent benefit-cost evaluation.\n",
        "    parent_bene = np.sum([self.kp[i][0] * parent_geno[i] for i, _ in enumerate(self.kp)])\n",
        "    parent_cost = np.sum([self.kp[i][1] * parent_geno[i] for i, _ in enumerate(self.kp)])\n",
        "    # Child benefit-cost evaluation.\n",
        "    child_bene = np.sum([self.kp[i][0] * child_geno[i] for i, _ in enumerate(self.kp)])\n",
        "    child_cost = np.sum([self.kp[i][1] * child_geno[i] for i, _ in enumerate(self.kp)])\n",
        "    # Case: benefits are equal, cost is evaluated.\n",
        "    # Will not occur as values are positive however adds functionality if needs arise.\n",
        "    if parent_bene == child_bene:\n",
        "      if parent_cost <= child_cost:\n",
        "        return parent_geno\n",
        "      else:\n",
        "        return child_geno\n",
        "    # If original genotype has a greater benefit then that genotype is returned.\n",
        "    elif parent_bene > child_bene:\n",
        "      return parent_geno\n",
        "    # If original genotype has a lesser benefit then that mutated genotype is returned.\n",
        "    else:\n",
        "      return child_geno\n",
        "\n",
        "\n",
        "  def evolve(self, print_results=False, final_benefit=False):\n",
        "    # Create inital genotype.\n",
        "    self.initalize(print_results)\n",
        "    # Counter to track epoch.\n",
        "    counter = 0\n",
        "    while counter < self.epochs:\n",
        "      counter += 1\n",
        "      # Mutate genotype.\n",
        "      child_geno = self.mutate()\n",
        "      # Compare fitness of parent vs child.\n",
        "      self.genotype = self.fitness(self.genotype, child_geno)\n",
        "      # Below can be moved into one of the conditionals to save running time.\n",
        "      # Final benefit value to append to fitness list.\n",
        "      final_bene = np.sum([self.kp[i][0] * self.genotype[i] for i, _ in enumerate(self.kp)])\n",
        "      # Tuples of current epoch and successful genotype's total benefit.\n",
        "      self.fitness_values.append((counter, final_bene))\n",
        "    # Following two conditionals are for displaying results.\n",
        "    if print_results:\n",
        "      # Final Results of this HillClimber:\n",
        "      final_cost = np.sum([self.kp[i][1] * self.genotype[i] for i, _ in enumerate(self.kp)])  \n",
        "      print(\"Final Benefit: {} \\nFinal Cost: {}\".format(final_bene,final_cost)) \n",
        "    if final_benefit:\n",
        "      return self.genotype, final_bene\n",
        "    return self.genotype\n"
      ],
      "execution_count": 0,
      "outputs": []
    },
    {
      "cell_type": "code",
      "metadata": {
        "id": "bnTvFXm40S48",
        "colab_type": "code",
        "colab": {
          "base_uri": "https://localhost:8080/",
          "height": 68
        },
        "outputId": "bc27a91f-e3e5-4fb6-b5a5-e17b6a4c1fb7"
      },
      "source": [
        "# Demonstrate how the separate functions work.\n",
        "hc = HillClimber(knapsack,20,epochs=100,mutation_rate=0.5)\n",
        "print(hc.genotype)\n",
        "hc.initalize()\n",
        "print(hc.genotype)\n",
        "print(hc.mutate())"
      ],
      "execution_count": 83,
      "outputs": [
        {
          "output_type": "stream",
          "text": [
            "[0 0 0 0 0 0 0 0 0 0]\n",
            "[0 1 0 0 1 0 0 1 0 0]\n",
            "[1 1 0 1 0 0 0 1 0 1]\n"
          ],
          "name": "stdout"
        }
      ]
    },
    {
      "cell_type": "code",
      "metadata": {
        "id": "gHbhIPWfPVoL",
        "colab_type": "code",
        "colab": {
          "base_uri": "https://localhost:8080/",
          "height": 102
        },
        "outputId": "f414f013-c49e-490f-9abe-da9932d3ed78"
      },
      "source": [
        "# Initalizes a new genotype then carries out its evolution.\n",
        "hc.evolve(print_results=True,final_benefit=True)"
      ],
      "execution_count": 38,
      "outputs": [
        {
          "output_type": "stream",
          "text": [
            "Initial Benefit: 22 \n",
            "Initial Cost: 13\n",
            "Final Benefit: 30 \n",
            "Final Cost: 17\n"
          ],
          "name": "stdout"
        },
        {
          "output_type": "execute_result",
          "data": {
            "text/plain": [
              "(array([1, 1, 0, 1, 0, 0, 0, 1, 1, 0]), 30)"
            ]
          },
          "metadata": {
            "tags": []
          },
          "execution_count": 38
        }
      ]
    },
    {
      "cell_type": "code",
      "metadata": {
        "id": "f6H2uDTws3Yz",
        "colab_type": "code",
        "colab": {
          "base_uri": "https://localhost:8080/",
          "height": 265
        },
        "outputId": "80a09248-426d-41a7-a588-675537f06259"
      },
      "source": [
        "for _ in range(250):\n",
        "  data_x = list()\n",
        "  data_y = list()\n",
        "  hc = HillClimber(knapsack, 20, epochs=50, mutation_rate=0.3)\n",
        "  hc.evolve()\n",
        "  for x in range(hc.epochs):\n",
        "    y = hc.fitness_values[x][1]\n",
        "    data_x.append(x)\n",
        "    data_y.append(y)\n",
        "  plt.plot(data_x,data_y)\n",
        "plt.show()\n"
      ],
      "execution_count": 92,
      "outputs": [
        {
          "output_type": "display_data",
          "data": {
            "image/png": "[encoded data removed]",
            "text/plain": [
              "<Figure size 432x288 with 1 Axes>"
            ]
          },
          "metadata": {
            "tags": []
          }
        }
      ]
    },
    {
      "cell_type": "code",
      "metadata": {
        "id": "RCf0JwEnGGt4",
        "colab_type": "code",
        "colab": {
          "base_uri": "https://localhost:8080/",
          "height": 34
        },
        "outputId": "8260036e-a72c-429b-fed0-cba7b8a3bbef"
      },
      "source": [
        "np.arange(0.1,1,0.2)\n",
        "np.geomspace(10,10000, num=4)"
      ],
      "execution_count": 211,
      "outputs": [
        {
          "output_type": "execute_result",
          "data": {
            "text/plain": [
              "array([   10.,   100.,  1000., 10000.])"
            ]
          },
          "metadata": {
            "tags": []
          },
          "execution_count": 211
        }
      ]
    },
    {
      "cell_type": "code",
      "metadata": {
        "colab_type": "code",
        "outputId": "22a55c5c-51c2-4e93-c79b-139ca9f5fdb3",
        "id": "QoEo0DavMinh",
        "colab": {
          "base_uri": "https://localhost:8080/",
          "height": 765
        }
      },
      "source": [
        "epoch_var = np.geomspace(10,10000, num=4)\n",
        "mutation_rate_var = np.arange(0.1,1,0.2)\n",
        "for epch in epoch_var:\n",
        "  print(epch)\n",
        "  for x in range(10):\n",
        "    #print(\"Current Epoch: {}  Current Mutation Rate: {}\".format(epch,\"0.3\"))\n",
        "    hc = HillClimber(knapsack, 20, epochs=epch, mutation_rate=0.3)\n",
        "    print(hc.evolve(final_benefit=True))\n",
        "    #print()"
      ],
      "execution_count": 242,
      "outputs": [
        {
          "output_type": "stream",
          "text": [
            "10.0\n",
            "(array([1, 1, 0, 0, 1, 0, 0, 1, 1, 0]), 23)\n",
            "(array([0, 1, 1, 0, 0, 0, 0, 1, 1, 1]), 27)\n",
            "(array([1, 0, 1, 1, 1, 0, 0, 0, 0, 0]), 17)\n",
            "(array([0, 0, 1, 0, 0, 0, 1, 0, 1, 0]), 12)\n",
            "(array([0, 1, 0, 1, 0, 0, 1, 1, 0, 0]), 22)\n",
            "(array([1, 1, 1, 0, 1, 0, 0, 1, 0, 0]), 17)\n",
            "(array([1, 1, 1, 0, 1, 0, 0, 1, 0, 0]), 17)\n",
            "(array([1, 1, 0, 1, 0, 1, 0, 1, 0, 0]), 31)\n",
            "(array([0, 1, 1, 1, 0, 0, 0, 1, 1, 0]), 26)\n",
            "(array([1, 1, 1, 0, 1, 0, 0, 1, 0, 0]), 17)\n",
            "100.0\n",
            "(array([0, 1, 0, 0, 1, 0, 0, 1, 0, 1]), 21)\n",
            "(array([0, 1, 1, 1, 1, 0, 0, 1, 0, 0]), 21)\n",
            "(array([0, 1, 1, 0, 0, 0, 0, 1, 1, 1]), 27)\n",
            "(array([1, 1, 0, 1, 1, 0, 0, 1, 0, 0]), 25)\n",
            "(array([0, 1, 1, 0, 0, 0, 0, 1, 1, 1]), 27)\n",
            "(array([1, 1, 1, 0, 0, 0, 1, 1, 0, 0]), 19)\n",
            "(array([0, 0, 0, 1, 1, 0, 0, 1, 1, 0]), 21)\n",
            "(array([1, 1, 1, 0, 0, 0, 0, 1, 0, 1]), 25)\n",
            "(array([1, 0, 1, 1, 0, 0, 0, 1, 1, 0]), 25)\n",
            "(array([1, 0, 0, 1, 0, 0, 1, 1, 0, 0]), 21)\n",
            "1000.0\n",
            "(array([0, 0, 1, 0, 1, 0, 0, 1, 0, 1]), 16)\n",
            "(array([0, 1, 0, 1, 0, 0, 0, 0, 1, 1]), 32)\n",
            "(array([0, 0, 1, 0, 0, 1, 0, 0, 0, 1]), 19)\n",
            "(array([0, 0, 1, 0, 0, 1, 0, 0, 0, 1]), 19)\n",
            "(array([1, 0, 0, 0, 1, 0, 0, 1, 0, 1]), 20)\n",
            "(array([1, 0, 1, 1, 0, 0, 0, 1, 0, 1]), 28)\n",
            "(array([0, 1, 0, 0, 0, 1, 0, 1, 1, 0]), 24)\n",
            "(array([0, 0, 1, 0, 0, 1, 0, 1, 1, 0]), 19)\n",
            "(array([1, 0, 1, 1, 0, 0, 0, 1, 1, 0]), 25)\n",
            "(array([0, 1, 1, 0, 0, 0, 0, 1, 1, 1]), 27)\n",
            "10000.0\n",
            "(array([0, 1, 0, 0, 1, 1, 0, 1, 0, 0]), 19)\n",
            "(array([1, 1, 0, 0, 1, 0, 0, 1, 1, 0]), 23)\n",
            "(array([1, 0, 0, 0, 0, 0, 1, 1, 1, 0]), 19)\n",
            "(array([1, 1, 1, 1, 0, 0, 0, 1, 0, 0]), 24)\n",
            "(array([0, 0, 1, 1, 0, 1, 0, 1, 0, 0]), 21)\n",
            "(array([0, 0, 1, 0, 1, 0, 0, 1, 0, 1]), 16)\n",
            "(array([1, 1, 0, 1, 1, 0, 0, 1, 0, 0]), 25)\n",
            "(array([0, 1, 0, 0, 0, 0, 1, 1, 0, 1]), 23)\n",
            "(array([0, 1, 0, 0, 1, 1, 0, 1, 0, 0]), 19)\n",
            "(array([1, 1, 0, 1, 0, 0, 0, 1, 0, 1]), 33)\n"
          ],
          "name": "stdout"
        }
      ]
    },
    {
      "cell_type": "code",
      "metadata": {
        "id": "XEvwN1qfOrLN",
        "colab_type": "code",
        "colab": {
          "base_uri": "https://localhost:8080/",
          "height": 282
        },
        "outputId": "8f74a022-9403-457a-ce0e-7975185bc824"
      },
      "source": [
        "data_x = list()\n",
        "data_y = list()\n",
        "for x in range(hc.epochs):\n",
        "  y = hc.fitness_values[x][1]\n",
        "  data_x.append(x)\n",
        "  data_y.append(y)\n",
        "plt.plot(data_x,data_y)"
      ],
      "execution_count": 61,
      "outputs": [
        {
          "output_type": "execute_result",
          "data": {
            "text/plain": [
              "[<matplotlib.lines.Line2D at 0x7f70018b87b8>]"
            ]
          },
          "metadata": {
            "tags": []
          },
          "execution_count": 61
        },
        {
          "output_type": "display_data",
          "data": {
            "image/png": "[encoded data removed]",
            "text/plain": [
              "<Figure size 432x288 with 1 Axes>"
            ]
          },
          "metadata": {
            "tags": []
          }
        }
      ]
    },
    {
      "cell_type": "code",
      "metadata": {
        "id": "rxnBtI_zGnVa",
        "colab_type": "code",
        "colab": {
          "base_uri": "https://localhost:8080/",
          "height": 51
        },
        "outputId": "fe783118-c805-4e31-a522-8d93d409b5a7"
      },
      "source": [
        "# Leave to run MUAHAHAHA\n",
        "import time\n",
        "start_time = time.time()\n",
        "\n",
        "epoch_var = np.geomspace(10,10000, num=4)\n",
        "#mutation_rate_var = np.arange(0.1,1,0.2)\n",
        "\n",
        "storage = list()\n",
        "for epch in epoch_var:\n",
        "  for x in range(10):\n",
        "    hc = HillClimber(knapsack, 20, epochs=epch, mutation_rate=0.3)\n",
        "    storage.append(hc.evolve(final_benefit=True)[1])\n",
        "\n",
        "print(\"%s seconds\" % (time.time() - start_time))\n",
        "print(max(storage))"
      ],
      "execution_count": 257,
      "outputs": [
        {
          "output_type": "stream",
          "text": [
            "24.17525053024292 seconds\n",
            "33\n"
          ],
          "name": "stdout"
        }
      ]
    },
    {
      "cell_type": "code",
      "metadata": {
        "id": "sZ8DbZZxRwnQ",
        "colab_type": "code",
        "colab": {
          "base_uri": "https://localhost:8080/",
          "height": 51
        },
        "outputId": "78c59d6b-aa2d-4997-c737-57acbeeeeb32"
      },
      "source": [
        "# Leave to run MUAHAHAHA - MK_2\n",
        "import time\n",
        "start_time = time.time()\n",
        "\n",
        "#epoch_var = np.geomspace(10,10000, num=4)\n",
        "#mutation_rate_var = np.arange(0.1,1,0.2)\n",
        "\n",
        "# for epch in epoch_var:\n",
        "\n",
        "storage = list()\n",
        "for x in range(10000):\n",
        "  hc = HillClimber(knapsack, 20, epochs=1000, mutation_rate=0.3)\n",
        "  storage.append(hc.evolve(final_benefit=True)[1])\n",
        "\n",
        "print(\"%s seconds\" % (time.time() - start_time))\n",
        "print(max(storage))"
      ],
      "execution_count": 260,
      "outputs": [
        {
          "output_type": "stream",
          "text": [
            "2177.6525163650513 seconds\n",
            "33\n"
          ],
          "name": "stdout"
        }
      ]
    },
    {
      "cell_type": "code",
      "metadata": {
        "id": "1ruZyT-5axgq",
        "colab_type": "code",
        "colab": {
          "base_uri": "https://localhost:8080/",
          "height": 51
        },
        "outputId": "4833b9bf-975d-4a88-a9f0-0111d25e5f35"
      },
      "source": [
        "storage = list()\n",
        "for x in range(1000):\n",
        "  hc = HillClimber(knapsack, 20, epochs=1000, mutation_rate=0.5)\n",
        "  storage.append(hc.evolve(final_benefit=True)[1])\n",
        "\n",
        "print(\"%s seconds\" % (time.time() - start_time))\n",
        "print(max(storage))"
      ],
      "execution_count": 261,
      "outputs": [
        {
          "output_type": "stream",
          "text": [
            "3445.6154420375824 seconds\n",
            "33\n"
          ],
          "name": "stdout"
        }
      ]
    }
  ]
}