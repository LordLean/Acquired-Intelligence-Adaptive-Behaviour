{
  "nbformat": 4,
  "nbformat_minor": 0,
  "metadata": {
    "colab": {
      "name": "hillclimber.ipynb",
      "provenance": [],
      "collapsed_sections": [],
      "authorship_tag": "ABX9TyMUhs2aWAf3IMJnyK9zjF/H",
      "include_colab_link": true
    },
    "kernelspec": {
      "name": "python3",
      "display_name": "Python 3"
    }
  },
  "cells": [
    {
      "cell_type": "markdown",
      "metadata": {
        "id": "view-in-github",
        "colab_type": "text"
      },
      "source": [
        "<a href=\"https://colab.research.google.com/github/LordLean/Acquired-Intelligence-Adaptive-Behaviour/blob/master/AIAB_Labs/hillclimber.ipynb\" target=\"_parent\"><img src=\"https://colab.research.google.com/assets/colab-badge.svg\" alt=\"Open In Colab\"/></a>"
      ]
    },
    {
      "cell_type": "code",
      "metadata": {
        "id": "glh9fy9uyzD5",
        "colab_type": "code",
        "colab": {}
      },
      "source": [
        "import numpy as np\n",
        "import random\n",
        "import matplotlib.pyplot as plt\n",
        "import time"
      ],
      "execution_count": 0,
      "outputs": []
    },
    {
      "cell_type": "code",
      "metadata": {
        "id": "JRFa_t4py0dO",
        "colab_type": "code",
        "colab": {}
      },
      "source": [
        "# (benefit, cost)\n",
        "knapsack = [(5,3),(6,2),(1,4),(9,5),(2,8),(8,9),(4,10),(3,1),(7,6),(10,7)]\n",
        "config = {\"kp\":knapsack, \"capacity\": 20}"
      ],
      "execution_count": 0,
      "outputs": []
    },
    {
      "cell_type": "code",
      "metadata": {
        "id": "TpE2cTYZx_-i",
        "colab_type": "code",
        "colab": {}
      },
      "source": [
        "class HillClimber(object):\n",
        "  \n",
        "\n",
        "  def __init__(self, kp, capacity, generations=100, mutation_rate=0.3):\n",
        "    self.kp = kp # Knapsack to be evaluated.\n",
        "    self.generations = generations # Evolutions to mutate for. \n",
        "    self.mutation_rate = mutation_rate # Mutation rate to effect rate of evolution.\n",
        "    self.capacity = capacity # Knapsack capacity.\n",
        "    self.shape = len(self.kp) # Shape of desired genotype.\n",
        "    self.genotype = np.zeros(self.shape, dtype=int) # Store the current optimal working genotype for this HC.\n",
        "    self.fitness_values = list() # Hold fitness values across evolutions for graphical representation.\n",
        "\n",
        "\n",
        "  def initalize(self, print_results=False):\n",
        "    # Enter while loop:\n",
        "    current_sum = self.capacity + 1\n",
        "    # Ensure random values do not cause a cost above capacity.\n",
        "    while current_sum > self.capacity:\n",
        "      for i, _ in enumerate(self.genotype):\n",
        "        num = random.uniform(0,1)  \n",
        "        self.genotype[i] = np.round(num)\n",
        "        # Update current sum until it holds a value less than capacity.\n",
        "        current_sum =  np.sum([self.kp[i][1] * self.genotype[i] for i, _ in enumerate(self.kp)])\n",
        "    if print_results:\n",
        "      # Inital Results of this HillClimber :\n",
        "      initial_bene = np.sum([self.kp[i][0] * self.genotype[i] for i, _ in enumerate(self.kp)])\n",
        "      initial_cost = np.sum([self.kp[i][1] * self.genotype[i] for i, _ in enumerate(self.kp)])  \n",
        "      print(\"Initial Benefit: {} \\nInitial Cost: {}\".format(initial_bene,initial_cost))\n",
        "\n",
        "\n",
        "  def mutate(self):\n",
        "    # Declare variable to hold mutated genotype\n",
        "    mutated_genotype = np.zeros(self.shape, dtype=int)\n",
        "    # Setup: while loop.\n",
        "    current_sum = self.capacity + 1\n",
        "    # Values will be reassigned until the mutated genotype cost is below capacity.\n",
        "    while current_sum > self.capacity:\n",
        "      # Copy genotype to temporary genotype.\n",
        "      mutated_genotype = np.copy(self.genotype)\n",
        "      for i, _ in enumerate(mutated_genotype):\n",
        "        num = random.uniform(0,1)  \n",
        "        # Allow mutation rate to reassign values.\n",
        "        if num < self.mutation_rate:\n",
        "          # If \"on\" switch off.\n",
        "          if mutated_genotype[i]:\n",
        "            mutated_genotype[i] = 0\n",
        "          # If \"off\" switch on.\n",
        "          else:\n",
        "            mutated_genotype[i] = 1\n",
        "      # Update current sum for the while loop to evaluate.\n",
        "      current_sum =  np.sum([self.kp[i][1] * mutated_genotype[i] for i, _ in enumerate(self.kp)])\n",
        "    # Return mutated genotype to be used for comparison.\n",
        "    return mutated_genotype\n",
        "\n",
        "\n",
        "  def fitness(self, parent_geno, child_geno):\n",
        "    # Parent benefit-cost evaluation.\n",
        "    parent_bene = np.sum([self.kp[i][0] * parent_geno[i] for i, _ in enumerate(self.kp)])\n",
        "    parent_cost = np.sum([self.kp[i][1] * parent_geno[i] for i, _ in enumerate(self.kp)])\n",
        "    # Child benefit-cost evaluation.\n",
        "    child_bene = np.sum([self.kp[i][0] * child_geno[i] for i, _ in enumerate(self.kp)])\n",
        "    child_cost = np.sum([self.kp[i][1] * child_geno[i] for i, _ in enumerate(self.kp)])\n",
        "    # Case: benefits are equal, cost is evaluated.\n",
        "    # Will not occur as values are positive however adds functionality if needs arise.\n",
        "    if parent_bene == child_bene:\n",
        "      if parent_cost <= child_cost:\n",
        "        return parent_geno\n",
        "      else:\n",
        "        return child_geno\n",
        "    # If original genotype has a greater benefit then that genotype is returned.\n",
        "    elif parent_bene > child_bene:\n",
        "      return parent_geno\n",
        "    # If original genotype has a lesser benefit then that mutated genotype is returned.\n",
        "    else:\n",
        "      return child_geno\n",
        "\n",
        "\n",
        "  def evolve(self, print_results=False, final_benefit=False):\n",
        "    # Create inital genotype.\n",
        "    self.initalize(print_results)\n",
        "    # Counter to track generation.\n",
        "    counter = 0\n",
        "    while counter < self.generations:\n",
        "      counter += 1\n",
        "      # Mutate genotype.\n",
        "      child_geno = self.mutate()\n",
        "      # Compare fitness of parent vs child.\n",
        "      self.genotype = self.fitness(self.genotype, child_geno)\n",
        "      # Below can be moved into one of the conditionals to save running time.\n",
        "      # Final benefit value to append to fitness list.\n",
        "      final_bene = np.sum([self.kp[i][0] * self.genotype[i] for i, _ in enumerate(self.kp)])\n",
        "      # Tuples of current epoch and successful genotype's total benefit.\n",
        "      self.fitness_values.append((counter, final_bene))\n",
        "    # Following two conditionals are for displaying results.\n",
        "    if print_results:\n",
        "      # Final Results of this HillClimber:\n",
        "      final_cost = np.sum([self.kp[i][1] * self.genotype[i] for i, _ in enumerate(self.kp)])  \n",
        "      print(\"Final Benefit: {} \\nFinal Cost: {}\".format(final_bene,final_cost)) \n",
        "    if final_benefit:\n",
        "      return self.genotype, final_bene\n",
        "    return self.genotype\n"
      ],
      "execution_count": 0,
      "outputs": []
    },
    {
      "cell_type": "code",
      "metadata": {
        "id": "bnTvFXm40S48",
        "colab_type": "code",
        "outputId": "f189b340-c556-4a31-fe80-e271d0e10e3b",
        "colab": {
          "base_uri": "https://localhost:8080/",
          "height": 70
        }
      },
      "source": [
        "# Demonstrate the various possibilities of results in binary genotype.\n",
        "hc = HillClimber(knapsack,20,generations=100,mutation_rate=0.5)\n",
        "print(hc.genotype)\n",
        "hc.initalize()\n",
        "print(hc.genotype)\n",
        "print(hc.mutate())"
      ],
      "execution_count": 4,
      "outputs": [
        {
          "output_type": "stream",
          "text": [
            "[0 0 0 0 0 0 0 0 0 0]\n",
            "[0 1 0 1 0 0 0 0 1 1]\n",
            "[0 1 1 1 1 0 0 1 0 0]\n"
          ],
          "name": "stdout"
        }
      ]
    },
    {
      "cell_type": "code",
      "metadata": {
        "id": "gHbhIPWfPVoL",
        "colab_type": "code",
        "outputId": "aeb6b6d7-2585-44ed-f818-aef1d13cd0b8",
        "colab": {
          "base_uri": "https://localhost:8080/",
          "height": 105
        }
      },
      "source": [
        "# Initalizes a new hill climber then carries out its evolution.\n",
        "hc.evolve(print_results=True,final_benefit=True)"
      ],
      "execution_count": 5,
      "outputs": [
        {
          "output_type": "stream",
          "text": [
            "Initial Benefit: 21 \n",
            "Initial Cost: 12\n",
            "Final Benefit: 30 \n",
            "Final Cost: 17\n"
          ],
          "name": "stdout"
        },
        {
          "output_type": "execute_result",
          "data": {
            "text/plain": [
              "(array([1, 1, 0, 1, 0, 0, 0, 0, 0, 1]), 30)"
            ]
          },
          "metadata": {
            "tags": []
          },
          "execution_count": 5
        }
      ]
    },
    {
      "cell_type": "code",
      "metadata": {
        "id": "EZTLRZAPemOl",
        "colab_type": "code",
        "colab": {}
      },
      "source": [
        "def run_HCs(kp, capacity, gens=250, mutation_rate=0.3, instances=50, plot_graphs=False, superimposed=True):\n",
        "  avg_y = list()\n",
        "  lnwdth = 2 # Linewidth for plot.\n",
        "  lnstyle = \"\" # Line colour and style.\n",
        "  lnalpha = 1 # Line alpha.\n",
        "  if superimposed:\n",
        "    lnwdth = 2.5\n",
        "    lnstyle = \"C0--\"\n",
        "    lnalpha = 0.7\n",
        "  for _ in range(instances):\n",
        "    data_x = list()\n",
        "    data_y = list()\n",
        "    h_c = HillClimber(kp, capacity, gens, mutation_rate)\n",
        "    h_c.evolve(final_benefit=True)[1]\n",
        "    for x in range(gens):\n",
        "      y = h_c.fitness_values[x][1]\n",
        "      data_x.append(x)\n",
        "      data_y.append(y)\n",
        "    if plot_graphs:\n",
        "      plt.plot(data_x,data_y,alpha=lnalpha)\n",
        "    # Recieve values for averaging.\n",
        "    avg_y.append(data_y)\n",
        "  if plot_graphs and not superimposed:\n",
        "    plt.xlabel(\"Generations\")\n",
        "    plt.ylabel(\"Fitness: Benefit\")\n",
        "    plt.show()\n",
        "  # Sum corresponding indicies and div by instances for mean benefit across each generation.\n",
        "  avg_y = [sum(row[i] for row in avg_y) / instances for i in range(len(avg_y[0]))]\n",
        "  if plot_graphs:\n",
        "    lbl = \"Expected Values\\nFinal Value: {}\".format(avg_y[-1])\n",
        "    plt.plot(data_x,avg_y,lnstyle,alpha=1,label=lbl,linewidth=lnwdth)\n",
        "    plt.xlabel(\"Generations\")\n",
        "    plt.ylabel(\"Fitness: Benefit\")\n",
        "    plt.legend(loc=\"center right\")\n",
        "    if not superimposed:  \n",
        "      leg = plt.gca().get_legend()\n",
        "      leg.legendHandles[0].set_visible(False) \n",
        "    plt.show()\n",
        "  return avg_y[-1]"
      ],
      "execution_count": 0,
      "outputs": []
    },
    {
      "cell_type": "code",
      "metadata": {
        "id": "0StGiKDDmoS_",
        "colab_type": "code",
        "outputId": "a65127b4-96b0-4a45-a030-80a99840d9fc",
        "colab": {
          "base_uri": "https://localhost:8080/",
          "height": 296
        }
      },
      "source": [
        "run_HCs(config[\"kp\"],config[\"capacity\"],gens=100, instances=50, plot_graphs=True, superimposed=True)"
      ],
      "execution_count": 7,
      "outputs": [
        {
          "output_type": "display_data",
          "data": {
            "image/png": "[encoded data removed]",
            "text/plain": [
              "<Figure size 432x288 with 1 Axes>"
            ]
          },
          "metadata": {
            "tags": []
          }
        },
        {
          "output_type": "execute_result",
          "data": {
            "text/plain": [
              "32.38"
            ]
          },
          "metadata": {
            "tags": []
          },
          "execution_count": 7
        }
      ]
    },
    {
      "cell_type": "code",
      "metadata": {
        "id": "tt1lujGyjo6u",
        "colab_type": "code",
        "outputId": "5d5fdace-3020-42bb-a845-2533dc27dfcc",
        "colab": {
          "base_uri": "https://localhost:8080/",
          "height": 985
        }
      },
      "source": [
        "full_time = time.time()#\n",
        "time_list = list() #\n",
        "mr_dict = dict()\n",
        "\n",
        "# Amend for start/stop/step below.\n",
        "s = {\"start\":0.1,\"stop\":0.6,\"step\":0.1}\n",
        "# Amend for generations each HC mutates for.\n",
        "g = 250\n",
        "# Amend for instances of HCs to be created.\n",
        "insts = 100\n",
        "# Amend for graphical rep of run_HCs().\n",
        "plt_grphs = False\n",
        "\n",
        "mr = np.arange(s[\"start\"],s[\"stop\"],s[\"step\"])\n",
        "# Dp purely for displaying correct MR as np.arange can return slightly off floats.\n",
        "decimal_points = len(str(s[\"step\"]).replace(\".\",\"\")) - 1 \n",
        "\n",
        "for val in mr:\n",
        "  start_time = time.time()#\n",
        "  print()\n",
        "  val = round(val,decimal_points)\n",
        "  print(\"Mutation rate: {}\".format(val))\n",
        "  # HC evolution.\n",
        "  max_mean_val = run_HCs(config[\"kp\"],config[\"capacity\"], g, val, insts, plot_graphs=plt_grphs, superimposed=True)#, plot_graphs=True)\n",
        "  print(\"Final Expected Value: {}\".format(max_mean_val))\n",
        "  mr_dict[val] = max_mean_val\n",
        "  tme = time.time() - full_time\n",
        "  tme2 = time.time() - start_time\n",
        "  time_list.append(tme)\n",
        "  print(\"At this mutation rate stimulation time: %s seconds\" % (tme2))#\n",
        "  print()\n",
        "\n",
        "# Set up time for cumulative time plot.\n",
        "# N.B if plot=True param is passed to run_HCs time will also include plotting the graphs.\n",
        "finished_time = time.time() - full_time\n",
        "#print(\"Full time: %s seconds\" % (finished_time))#\n",
        "\n",
        "# Section used to plot cumulative time taken against mutation rate.\n",
        "plt.plot(mr,time_list,\"g\",label=(\"Full Time Taken: {}\".format(finished_time)))\n",
        "plt.xlabel(\"Mutation Rate\")\n",
        "plt.ylabel(\"Time\")\n",
        "plt.legend(loc=\"center right\")\n",
        "# Remove legend line.\n",
        "leg = plt.gca().get_legend()\n",
        "leg.legendHandles[0].set_visible(False)\n",
        "plt.show()\n",
        "\n",
        "# Set up to return MR with largest avg value after x HCs running for y generations.\n",
        "# N.B in the case of equal values this will return the \"first\" matching key, value pair in dict.\n",
        "winning_mr = max(mr_dict.items(), key=lambda k: k[1])\n",
        "# Plot final expected value against mutation rate as a loss function to find optimal rate.\n",
        "lbl = \"Largest Expected value: {}\\nMutation Rate: {}\".format(winning_mr[1],winning_mr[0])\n",
        "# Final Expected values pulled from mutation rate dictionary keys.\n",
        "fnl_exp_vals = list(mr_dict.values())\n",
        "plt.plot(mr,fnl_exp_vals,\"r\",label=lbl)\n",
        "plt.xlabel(\"Mutation Rate\")\n",
        "plt.ylabel(\"Final Expected Value\")\n",
        "#plt.text(0.5,0.5, lbl, ha=\"right\", va=\"top\", transform=plt.gca().transAxes)\n",
        "plt.legend(loc=\"center right\")\n",
        "leg = plt.gca().get_legend()\n",
        "leg.legendHandles[0].set_visible(False)\n",
        "plt.show()\n",
        "\n",
        "\n",
        "\n"
      ],
      "execution_count": 9,
      "outputs": [
        {
          "output_type": "stream",
          "text": [
            "\n",
            "Mutation rate: 0.1\n",
            "Final Expected Value: 32.2\n",
            "At this mutation rate stimulation time: 2.973360776901245 seconds\n",
            "\n",
            "\n",
            "Mutation rate: 0.2\n",
            "Final Expected Value: 32.83\n",
            "At this mutation rate stimulation time: 3.2664215564727783 seconds\n",
            "\n",
            "\n",
            "Mutation rate: 0.3\n",
            "Final Expected Value: 32.93\n",
            "At this mutation rate stimulation time: 3.8135931491851807 seconds\n",
            "\n",
            "\n",
            "Mutation rate: 0.4\n",
            "Final Expected Value: 32.82\n",
            "At this mutation rate stimulation time: 4.179810047149658 seconds\n",
            "\n",
            "\n",
            "Mutation rate: 0.5\n",
            "Final Expected Value: 32.5\n",
            "At this mutation rate stimulation time: 4.625451564788818 seconds\n",
            "\n"
          ],
          "name": "stdout"
        },
        {
          "output_type": "display_data",
          "data": {
            "image/png": "[encoded data removed]",
            "text/plain": [
              "<Figure size 432x288 with 1 Axes>"
            ]
          },
          "metadata": {
            "tags": []
          }
        },
        {
          "output_type": "display_data",
          "data": {
            "image/png": "[encoded data removed]",
            "text/plain": [
              "<Figure size 432x288 with 1 Axes>"
            ]
          },
          "metadata": {
            "tags": []
          }
        }
      ]
    },
    {
      "cell_type": "code",
      "metadata": {
        "id": "KmtOB32zpkz7",
        "colab_type": "code",
        "colab": {}
      },
      "source": [
        ""
      ],
      "execution_count": 0,
      "outputs": []
    },
    {
      "cell_type": "code",
      "metadata": {
        "id": "xoLnj6gUlFvV",
        "colab_type": "code",
        "colab": {}
      },
      "source": [
        "# def run_HCs_old(kp, capacity, gens=100, mutation_rate=0.3, instances=100):\n",
        "#   avg_y = list()\n",
        "#   for _ in range(instances):\n",
        "#     data_x = list()\n",
        "#     data_y = list()\n",
        "#     h_c = HillClimber(kp, capacity, gens, mutation_rate)\n",
        "#     h_c.evolve()\n",
        "#     for x in range(gens):\n",
        "#       y = h_c.fitness_values[x][1]\n",
        "#       data_x.append(x)\n",
        "#       data_y.append(y)\n",
        "#     plt.plot(data_x,data_y)\n",
        "#     # Recieve values for averaging.\n",
        "#     avg_y.append(data_y)\n",
        "#   plt.xlabel(\"Generations\")\n",
        "#   plt.ylabel(\"Fitness: Benefit\")\n",
        "#   plt.show()\n",
        "#   # Sum corresponding indicies and div by instances for mean benefit across each generation.\n",
        "#   avg_y = [sum(row[i] for row in avg_y) / instances for i in range(len(avg_y[0]))]\n",
        "#   plt.plot(data_x,avg_y,label=(\"Max Mean Value: {}\".format(avg_y[-1])))\n",
        "#   plt.xlabel(\"Generations\")\n",
        "#   plt.ylabel(\"Average Fitness: Benefit\")\n",
        "#   plt.legend(loc=\"center right\")\n",
        "#   plt.show()\n",
        "  \n",
        "# import time#\n",
        "# full_time = time.time()#\n",
        "# time_list = list() #\n",
        "# test_list = list() #\n",
        "\n",
        "# mr = np.arange(0.1,1,0.1)\n",
        "# for val in mr:\n",
        "#   start_time = time.time()#\n",
        "#   print()\n",
        "#   val = round(val,1)\n",
        "#   print(\"Mutation rate: {}\".format(val))\n",
        "#   run_HCs(config[\"kp\"],config[\"capacity\"],gens=250, mutation_rate=val, instances=250)\n",
        "#   tme = time.time() - full_time\n",
        "#   tme2 = time.time() - start_time\n",
        "#   time_list.append(tme)\n",
        "#   test_list.append(tme2)\n",
        "#   print(\"%s seconds\" % (tme2))#\n",
        "#   print()\n",
        "\n",
        "# print(\"Full time: %s seconds\" % (time.time() - full_time))#\n",
        "\n",
        "# xdata = mr\n",
        "# plt.plot(xdata,time_list)\n",
        "# plt.xlabel(\"Mutation Rate\")\n",
        "# plt.ylabel(\"Time\")\n",
        "# plt.show()"
      ],
      "execution_count": 0,
      "outputs": []
    }
  ]
}