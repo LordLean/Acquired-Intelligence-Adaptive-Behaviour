{
  "nbformat": 4,
  "nbformat_minor": 0,
  "metadata": {
    "colab": {
      "name": "microbialGA.ipynb",
      "provenance": [],
      "collapsed_sections": [],
      "authorship_tag": "ABX9TyOW0zEOTXCLfgbtyYtajf5j",
      "include_colab_link": true
    },
    "kernelspec": {
      "name": "python3",
      "display_name": "Python 3"
    }
  },
  "cells": [
    {
      "cell_type": "markdown",
      "metadata": {
        "id": "view-in-github",
        "colab_type": "text"
      },
      "source": [
        "<a href=\"https://colab.research.google.com/github/LordLean/Acquired-Intelligence-Adaptive-Behaviour/blob/master/AIAB_Labs/microbialGA.ipynb\" target=\"_parent\"><img src=\"https://colab.research.google.com/assets/colab-badge.svg\" alt=\"Open In Colab\"/></a>"
      ]
    },
    {
      "cell_type": "code",
      "metadata": {
        "id": "dpdYyLPuJD7T",
        "colab_type": "code",
        "colab": {}
      },
      "source": [
        "import numpy as np\n",
        "import matplotlib as plt\n",
        "import random"
      ],
      "execution_count": 0,
      "outputs": []
    },
    {
      "cell_type": "code",
      "metadata": {
        "id": "OC7zkBppL5pv",
        "colab_type": "code",
        "colab": {}
      },
      "source": [
        "# (benefit, cost)\n",
        "knapsack = [(5,3),(6,2),(1,4),(9,5),(2,8),(8,9),(4,10),(3,1),(7,6),(10,7)]\n",
        "config = {\"kp\":knapsack, \"capacity\": 20}"
      ],
      "execution_count": 0,
      "outputs": []
    },
    {
      "cell_type": "code",
      "metadata": {
        "id": "_4R-h-RtL86T",
        "colab_type": "code",
        "colab": {}
      },
      "source": [
        "class MicrobialGA(object):\n",
        "\n",
        "\n",
        "  def __init__(self, kp, capacity, crossover_op, population_size=100, generations=100, mutation_rate=0.3):\n",
        "    self.kp = kp # Knapsack to be evaluated.\n",
        "    self.capacity = capacity # Knapsack capacity.\n",
        "    self.population_size = population_size # Population size of genotypes.\n",
        "    self.generations = generations # Evolutions to mutate for. \n",
        "    self.mutation_rate = mutation_rate # Mutation rate to effect rate of evolution.\n",
        "    self.geno_shape = len(self.kp) # Shape of desired genotype.\n",
        "    self.population = np.zeros(shape=(population_size, self.geno_shape), dtype=int) # Hold all genotypes/solutions.\n",
        "\n",
        "\n",
        "  def initalize(self):\n",
        "    # Initialze each solution in population to random binary values.\n",
        "    for i, genotype in enumerate(self.population):\n",
        "      current_sum = self.capacity + 1\n",
        "      # Ensure random values do not cause a cost above capacity.\n",
        "      while current_sum > self.capacity:\n",
        "        for i, _ in enumerate(genotype):\n",
        "          num = random.uniform(0,1)  \n",
        "          genotype[i] = np.round(num)\n",
        "          # Update current sum until it holds a value less than capacity.\n",
        "          current_sum = np.sum([self.kp[i][1] * genotype[i] for i, _ in enumerate(self.kp)])\n",
        "\n",
        "\n",
        "  def selection(self):\n",
        "    # Create indicies to compare without out of bounds exception.\n",
        "    upper_bound = self.geno_shape - 1\n",
        "    index_one = random.uniform(0,upper_bound)  \n",
        "    index_one = np.round(index_one).astype(\"int\")\n",
        "    index_two = int()\n",
        "    p = random.uniform(0,1)\n",
        "    # If p < 1/4 match genotype with previous neighbour at distance 2. \n",
        "    if p < 0.25:\n",
        "      index_two = index_one - 2\n",
        "    # If 1/4 <= p < 1/2 match genotype with previous neighbour at distance 1. \n",
        "    elif p < 0.5:\n",
        "      index_two = index_one - 1\n",
        "    # If 1/2 <= p < 3/4 match genotype with next neighbour at distance 1. \n",
        "    elif p < 0.75:\n",
        "      # Try-catch to avoid out of bounds exception. If index does not exist set to 0.\n",
        "      try:\n",
        "        index_two = index_one + 1\n",
        "        # Try catch was maybe not the best solution as had to force a possible error but this was the imp. that I had started.\n",
        "        geno_one = self.population[index_one] \n",
        "        geno_two = self.population[index_two]\n",
        "        return geno_one, geno_two\n",
        "      except:\n",
        "        index_two = 0\n",
        "    # If 3/4 <= p <= 1 match genotype with next neighbour at distance 2. \n",
        "    else:\n",
        "      # Try-catch to avoid out of bounds exception. If index does not exist set to 1.\n",
        "      try:\n",
        "        index_two = index_one + 2\n",
        "        geno_one = self.population[index_one] \n",
        "        geno_two = self.population[index_two]\n",
        "        return geno_one, geno_two\n",
        "      except:\n",
        "        index_two = 1\n",
        "    # State the two \"neighbouring\" genotypes to return.\n",
        "    geno_one = self.population[index_one] \n",
        "    geno_two = self.population[index_two] \n",
        "    return geno_one, geno_two\n",
        "    \n",
        "\n",
        "  def fitness(self, geno_one, geno_two):\n",
        "    # Benefit-cost evaluation.\n",
        "    geno_one_bene = np.sum([self.kp[i][0] * geno_one[i] for i, _ in enumerate(self.kp)])\n",
        "    geno_one_cost = np.sum([self.kp[i][1] * geno_one[i] for i, _ in enumerate(self.kp)])\n",
        "    #Benefit-cost evaluation.\n",
        "    geno_two_bene = np.sum([self.kp[i][0] * geno_two[i] for i, _ in enumerate(self.kp)])\n",
        "    geno_two_cost = np.sum([self.kp[i][1] * geno_two[i] for i, _ in enumerate(self.kp)])\n",
        "    # Case: benefits are equal, cost is evaluated.\n",
        "    if geno_one_bene == geno_two_bene:\n",
        "      if geno_one_cost <= geno_two_cost:\n",
        "        return geno_one\n",
        "      else:\n",
        "        return geno_two\n",
        "    # If genotype one has a greater benefit then that genotype is returned.\n",
        "    elif geno_one_bene > geno_two_bene:\n",
        "      return geno_one\n",
        "    # If genotype one has a lesser benefit then that genotype is returned.\n",
        "    else:\n",
        "      return geno_two\n",
        "\n",
        "\n",
        "  def crossover(self,crossover_op):\n",
        "    NotImplemented"
      ],
      "execution_count": 0,
      "outputs": []
    },
    {
      "cell_type": "code",
      "metadata": {
        "id": "XpeTSpK1Xkl6",
        "colab_type": "code",
        "colab": {
          "base_uri": "https://localhost:8080/",
          "height": 194
        },
        "outputId": "0f70237a-c373-4650-b5c0-68e77cffa442"
      },
      "source": [
        "mga = MicrobialGA(config[\"kp\"], config[\"capacity\"], None, population_size=10)\n",
        "mga.initalize()\n",
        "mga.population"
      ],
      "execution_count": 184,
      "outputs": [
        {
          "output_type": "execute_result",
          "data": {
            "text/plain": [
              "array([[0, 0, 1, 0, 1, 0, 0, 0, 0, 1],\n",
              "       [0, 0, 1, 1, 0, 0, 0, 1, 1, 0],\n",
              "       [0, 1, 0, 0, 0, 0, 0, 0, 1, 0],\n",
              "       [1, 1, 0, 1, 0, 0, 0, 1, 0, 1],\n",
              "       [1, 0, 1, 0, 0, 0, 1, 0, 0, 0],\n",
              "       [0, 1, 0, 1, 0, 0, 1, 1, 0, 0],\n",
              "       [0, 1, 0, 0, 0, 1, 0, 0, 0, 1],\n",
              "       [0, 1, 0, 0, 1, 0, 0, 0, 0, 0],\n",
              "       [0, 0, 0, 1, 0, 0, 0, 0, 0, 1],\n",
              "       [0, 0, 1, 0, 1, 0, 0, 1, 0, 0]])"
            ]
          },
          "metadata": {
            "tags": []
          },
          "execution_count": 184
        }
      ]
    },
    {
      "cell_type": "code",
      "metadata": {
        "id": "J-PnhmuV6aoj",
        "colab_type": "code",
        "colab": {
          "base_uri": "https://localhost:8080/",
          "height": 34
        },
        "outputId": "190c69d0-d5f1-4653-b0b5-abb44c8fc5dc"
      },
      "source": [
        "one, two = mga.selection()\n",
        "mga.fitness(one,two)"
      ],
      "execution_count": 186,
      "outputs": [
        {
          "output_type": "execute_result",
          "data": {
            "text/plain": [
              "array([0, 1, 0, 1, 0, 0, 1, 1, 0, 0])"
            ]
          },
          "metadata": {
            "tags": []
          },
          "execution_count": 186
        }
      ]
    },
    {
      "cell_type": "code",
      "metadata": {
        "id": "yGU85tkQNm4J",
        "colab_type": "code",
        "colab": {
          "base_uri": "https://localhost:8080/",
          "height": 1000
        },
        "outputId": "3424cb0d-df57-472b-f03c-0f1e67e31c96"
      },
      "source": [
        "mga = MicrobialGA(config[\"kp\"], config[\"capacity\"], 10)\n",
        "mga.population\n",
        "for i, item in enumerate(mga.population):\n",
        "  current_sum = 20 + 1\n",
        "  # Ensure random values do not cause a cost above capacity.\n",
        "  while current_sum > 20:\n",
        "    for i, _ in enumerate(item):\n",
        "      num = random.uniform(0,1)  \n",
        "      item[i] = np.round(num)\n",
        "      # Update current sum until it holds a value less than capacity.\n",
        "      current_sum =  np.sum([mga.kp[i][1] * item[i] for i, _ in enumerate(mga.kp)])\n",
        "mga.population"
      ],
      "execution_count": 25,
      "outputs": [
        {
          "output_type": "execute_result",
          "data": {
            "text/plain": [
              "array([[0, 1, 0, 0, 1, 0, 0, 0, 1, 0],\n",
              "       [1, 1, 0, 0, 0, 0, 0, 1, 1, 1],\n",
              "       [0, 1, 0, 1, 1, 0, 0, 0, 0, 0],\n",
              "       [0, 0, 0, 0, 0, 0, 0, 0, 1, 1],\n",
              "       [0, 0, 0, 0, 0, 0, 1, 0, 0, 1],\n",
              "       [0, 1, 1, 0, 0, 1, 0, 0, 0, 0],\n",
              "       [1, 0, 0, 1, 0, 0, 1, 1, 0, 0],\n",
              "       [0, 0, 0, 1, 0, 0, 0, 0, 0, 0],\n",
              "       [0, 0, 0, 0, 0, 0, 1, 1, 0, 0],\n",
              "       [1, 0, 0, 0, 0, 0, 0, 1, 0, 1],\n",
              "       [0, 1, 0, 1, 0, 0, 0, 1, 0, 0],\n",
              "       [1, 1, 1, 0, 0, 1, 0, 1, 0, 0],\n",
              "       [0, 0, 1, 1, 0, 0, 1, 0, 0, 0],\n",
              "       [0, 1, 0, 1, 1, 0, 0, 1, 0, 0],\n",
              "       [0, 0, 1, 0, 0, 0, 0, 0, 1, 1],\n",
              "       [0, 1, 0, 0, 0, 1, 0, 1, 1, 0],\n",
              "       [0, 0, 0, 1, 0, 0, 1, 1, 0, 0],\n",
              "       [1, 1, 1, 0, 1, 0, 0, 0, 0, 0],\n",
              "       [0, 1, 0, 0, 0, 0, 0, 1, 0, 1],\n",
              "       [0, 1, 1, 1, 0, 0, 0, 1, 0, 1],\n",
              "       [1, 0, 0, 0, 0, 0, 1, 0, 0, 0],\n",
              "       [1, 1, 0, 0, 0, 1, 0, 0, 1, 0],\n",
              "       [1, 1, 0, 1, 0, 1, 0, 1, 0, 0],\n",
              "       [0, 0, 0, 1, 0, 0, 0, 0, 0, 1],\n",
              "       [0, 1, 1, 1, 0, 0, 0, 1, 0, 1],\n",
              "       [1, 0, 0, 1, 0, 0, 1, 1, 0, 0],\n",
              "       [0, 1, 1, 1, 0, 0, 0, 1, 0, 1],\n",
              "       [1, 1, 0, 1, 0, 0, 0, 0, 0, 0],\n",
              "       [0, 1, 0, 1, 0, 0, 0, 0, 1, 0],\n",
              "       [0, 0, 0, 0, 1, 0, 0, 0, 0, 1],\n",
              "       [1, 1, 1, 0, 0, 0, 1, 0, 0, 0],\n",
              "       [0, 0, 1, 1, 0, 0, 0, 0, 1, 0],\n",
              "       [0, 1, 0, 0, 0, 1, 0, 1, 0, 1],\n",
              "       [1, 0, 0, 0, 0, 0, 0, 0, 1, 1],\n",
              "       [0, 1, 0, 1, 0, 1, 0, 1, 0, 0],\n",
              "       [0, 0, 0, 0, 0, 0, 0, 0, 1, 1],\n",
              "       [1, 0, 1, 0, 0, 0, 0, 0, 0, 0],\n",
              "       [0, 0, 0, 0, 0, 0, 0, 1, 1, 0],\n",
              "       [1, 0, 1, 1, 0, 0, 0, 0, 0, 0],\n",
              "       [0, 1, 0, 0, 0, 1, 0, 1, 1, 0],\n",
              "       [1, 1, 0, 1, 0, 0, 0, 0, 0, 1],\n",
              "       [1, 0, 1, 1, 0, 0, 0, 1, 0, 0],\n",
              "       [0, 0, 0, 1, 0, 0, 0, 0, 0, 0],\n",
              "       [0, 0, 0, 1, 0, 0, 0, 1, 1, 1],\n",
              "       [0, 1, 1, 0, 0, 0, 0, 1, 0, 1],\n",
              "       [0, 0, 0, 1, 1, 0, 0, 1, 0, 0],\n",
              "       [0, 0, 1, 0, 0, 0, 1, 1, 0, 0],\n",
              "       [0, 0, 0, 0, 0, 0, 0, 0, 1, 1],\n",
              "       [1, 0, 0, 0, 1, 0, 0, 0, 0, 0],\n",
              "       [1, 1, 1, 0, 0, 0, 0, 1, 0, 1],\n",
              "       [0, 1, 1, 1, 0, 1, 0, 0, 0, 0],\n",
              "       [0, 1, 0, 1, 1, 0, 0, 0, 0, 0],\n",
              "       [0, 0, 0, 0, 0, 0, 0, 1, 0, 1],\n",
              "       [0, 1, 0, 0, 0, 0, 0, 0, 0, 0],\n",
              "       [0, 0, 1, 0, 0, 0, 0, 1, 0, 0],\n",
              "       [1, 0, 0, 0, 0, 1, 0, 0, 1, 0],\n",
              "       [1, 0, 1, 0, 0, 0, 0, 0, 0, 0],\n",
              "       [0, 0, 1, 0, 0, 0, 0, 0, 1, 1],\n",
              "       [0, 0, 1, 0, 0, 0, 0, 0, 0, 1],\n",
              "       [1, 0, 0, 1, 0, 0, 0, 1, 1, 0],\n",
              "       [1, 0, 0, 1, 0, 0, 0, 1, 1, 0],\n",
              "       [0, 0, 0, 0, 0, 1, 0, 1, 0, 0],\n",
              "       [1, 0, 0, 1, 0, 0, 0, 0, 0, 1],\n",
              "       [0, 1, 0, 0, 0, 1, 0, 1, 1, 0],\n",
              "       [0, 0, 0, 0, 0, 0, 0, 1, 0, 0],\n",
              "       [1, 1, 0, 0, 0, 0, 1, 1, 0, 0],\n",
              "       [0, 1, 1, 1, 1, 0, 0, 0, 0, 0],\n",
              "       [0, 0, 0, 1, 0, 0, 1, 1, 0, 0],\n",
              "       [0, 1, 0, 0, 1, 0, 0, 1, 0, 0],\n",
              "       [1, 0, 0, 1, 1, 0, 0, 0, 0, 0],\n",
              "       [1, 0, 0, 1, 0, 0, 1, 0, 0, 0],\n",
              "       [0, 1, 0, 0, 0, 0, 0, 1, 1, 0],\n",
              "       [0, 0, 0, 0, 0, 1, 1, 0, 0, 0],\n",
              "       [0, 1, 0, 0, 0, 1, 0, 0, 0, 1],\n",
              "       [0, 1, 0, 0, 0, 0, 0, 1, 1, 1],\n",
              "       [0, 1, 1, 0, 1, 0, 0, 1, 0, 0],\n",
              "       [0, 0, 0, 0, 0, 0, 1, 1, 0, 1],\n",
              "       [0, 0, 0, 0, 0, 0, 0, 1, 0, 1],\n",
              "       [1, 0, 1, 0, 1, 0, 0, 0, 0, 0],\n",
              "       [0, 0, 0, 1, 0, 0, 0, 1, 1, 1],\n",
              "       [0, 1, 0, 1, 0, 0, 1, 1, 0, 0],\n",
              "       [0, 1, 0, 0, 1, 0, 0, 1, 1, 0],\n",
              "       [0, 0, 0, 0, 1, 0, 0, 1, 0, 0],\n",
              "       [0, 1, 0, 0, 0, 0, 0, 0, 1, 0],\n",
              "       [1, 0, 0, 0, 0, 0, 0, 1, 1, 0],\n",
              "       [0, 0, 1, 0, 0, 0, 0, 0, 1, 1],\n",
              "       [0, 0, 1, 0, 1, 0, 0, 1, 0, 0],\n",
              "       [1, 1, 0, 1, 0, 0, 1, 0, 0, 0],\n",
              "       [0, 1, 0, 0, 0, 1, 0, 0, 1, 0],\n",
              "       [1, 0, 1, 1, 0, 0, 0, 1, 0, 1],\n",
              "       [1, 1, 1, 0, 0, 1, 0, 1, 0, 0],\n",
              "       [0, 0, 0, 0, 0, 0, 0, 0, 0, 1],\n",
              "       [0, 0, 0, 0, 0, 1, 1, 0, 0, 0],\n",
              "       [0, 0, 1, 0, 0, 0, 0, 1, 1, 1],\n",
              "       [1, 0, 1, 1, 0, 0, 0, 0, 0, 0],\n",
              "       [0, 1, 1, 0, 0, 0, 0, 0, 0, 1],\n",
              "       [0, 0, 0, 1, 1, 0, 0, 0, 1, 0],\n",
              "       [1, 0, 0, 1, 0, 0, 0, 1, 1, 0],\n",
              "       [0, 0, 0, 0, 0, 0, 0, 1, 1, 0],\n",
              "       [1, 1, 0, 1, 0, 0, 0, 1, 0, 1]])"
            ]
          },
          "metadata": {
            "tags": []
          },
          "execution_count": 25
        }
      ]
    },
    {
      "cell_type": "code",
      "metadata": {
        "id": "chZIoyC-mDe0",
        "colab_type": "code",
        "colab": {
          "base_uri": "https://localhost:8080/",
          "height": 247
        },
        "outputId": "54fecded-4bcd-4abc-cc61-9e63d66566d8"
      },
      "source": [
        "print(mga.population)\n",
        "print()\n",
        "print(mga.population[0])\n",
        "print(mga.population[-1])"
      ],
      "execution_count": 36,
      "outputs": [
        {
          "output_type": "stream",
          "text": [
            "[[1 1 0 0 0 0 1 0 0 0]\n",
            " [0 1 1 0 0 0 0 1 0 0]\n",
            " [0 0 1 1 0 0 0 1 0 0]\n",
            " [0 1 1 0 0 1 0 0 0 0]\n",
            " [0 1 0 1 0 0 0 1 0 1]\n",
            " [1 0 0 0 0 1 0 1 0 0]\n",
            " [0 1 0 0 1 0 0 1 0 1]\n",
            " [0 0 0 0 0 1 0 1 0 0]\n",
            " [1 1 0 0 1 0 0 0 1 0]\n",
            " [0 0 1 0 0 0 0 0 1 0]]\n",
            "\n",
            "[1 1 0 0 0 0 1 0 0 0]\n",
            "[0 0 1 0 0 0 0 0 1 0]\n"
          ],
          "name": "stdout"
        }
      ]
    },
    {
      "cell_type": "code",
      "metadata": {
        "id": "GNF_iecxmejg",
        "colab_type": "code",
        "colab": {
          "base_uri": "https://localhost:8080/",
          "height": 52
        },
        "outputId": "4807f5a0-77ee-4054-c7bf-89cb3d0ac041"
      },
      "source": [
        "test = np.zeros(10,dtype=int)\n",
        "upper_bound = 10 - 1\n",
        "num = random.uniform(0,upper_bound)  \n",
        "num = np.round(num).astype(\"int\")\n",
        "num = num + 1\n",
        "test[0] = 999\n",
        "try:\n",
        "  print(test[num])\n",
        "except:\n",
        "  print(num)\n",
        "  print(test[0])"
      ],
      "execution_count": 131,
      "outputs": [
        {
          "output_type": "stream",
          "text": [
            "9.0\n",
            "999\n"
          ],
          "name": "stdout"
        }
      ]
    }
  ]
}