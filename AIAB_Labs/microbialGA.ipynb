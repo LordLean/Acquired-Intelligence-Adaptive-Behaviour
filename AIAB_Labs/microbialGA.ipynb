{
  "nbformat": 4,
  "nbformat_minor": 0,
  "metadata": {
    "colab": {
      "name": "microbialGA.ipynb",
      "provenance": [],
      "collapsed_sections": [],
      "authorship_tag": "ABX9TyPe9nCyOSsAx6vHZ6fRtVw/",
      "include_colab_link": true
    },
    "kernelspec": {
      "name": "python3",
      "display_name": "Python 3"
    }
  },
  "cells": [
    {
      "cell_type": "markdown",
      "metadata": {
        "id": "view-in-github",
        "colab_type": "text"
      },
      "source": [
        "<a href=\"https://colab.research.google.com/github/LordLean/Acquired-Intelligence-Adaptive-Behaviour/blob/master/AIAB_Labs/microbialGA.ipynb\" target=\"_parent\"><img src=\"https://colab.research.google.com/assets/colab-badge.svg\" alt=\"Open In Colab\"/></a>"
      ]
    },
    {
      "cell_type": "code",
      "metadata": {
        "id": "dpdYyLPuJD7T",
        "colab_type": "code",
        "colab": {}
      },
      "source": [
        "import numpy as np\n",
        "import matplotlib as plt\n",
        "import random"
      ],
      "execution_count": 0,
      "outputs": []
    },
    {
      "cell_type": "code",
      "metadata": {
        "id": "OC7zkBppL5pv",
        "colab_type": "code",
        "colab": {}
      },
      "source": [
        "# (benefit, cost)\n",
        "knapsack = [(5,3),(6,2),(1,4),(9,5),(2,8),(8,9),(4,10),(3,1),(7,6),(10,7)]\n",
        "crossover = {\"One Point\":0, \"Multi Point\":1, \"Uniform\":2}\n",
        "config = {\"kp\":knapsack, \"capacity\":20}"
      ],
      "execution_count": 0,
      "outputs": []
    },
    {
      "cell_type": "code",
      "metadata": {
        "id": "_4R-h-RtL86T",
        "colab_type": "code",
        "colab": {}
      },
      "source": [
        "class MicrobialGA(object):\n",
        "\n",
        "\n",
        "  def __init__(self, kp, capacity, crossover_op=0, population_size=100, tournaments=100, mutation_rate=0.3):\n",
        "    self.kp = kp # Knapsack to be evaluated.\n",
        "    self.capacity = capacity # Knapsack capacity.\n",
        "    self.crossover_op = crossover_op # Set desired crossover method.\n",
        "    self.population_size = population_size # Population size of genotypes.\n",
        "    self.tournaments = tournaments # Tournaments to run for. \n",
        "    self.mutation_rate = mutation_rate # Mutation rate to effect rate of evolution.\n",
        "    self.geno_shape = len(self.kp) # Shape of desired genotype.\n",
        "    self.population = np.zeros(shape=(population_size, self.geno_shape), dtype=int) # Hold all genotypes/solutions.\n",
        "\n",
        "\n",
        "  def initalize(self):\n",
        "    # Initialze each solution in population to random binary values.\n",
        "    for i, genotype in enumerate(self.population):\n",
        "      current_sum = self.capacity + 1\n",
        "      # Ensure random values do not cause a cost above capacity.\n",
        "      while current_sum > self.capacity:\n",
        "        for i, _ in enumerate(genotype):\n",
        "          genotype[i] = random.randint(0,1)\n",
        "          # Update current sum until it holds a value less than capacity.\n",
        "          current_sum = np.sum([self.kp[i][1] * genotype[i] for i, _ in enumerate(self.kp)])\n",
        "\n",
        "\n",
        "  # NOT VERY SCALABLE IS IT!\n",
        "  def selection(self):\n",
        "    try:\n",
        "      # Create indicies to compare without out of bounds exception.\n",
        "      upper_bound = self.population_size - 1\n",
        "      index_one = random.randint(0,upper_bound)\n",
        "      index_two = int()\n",
        "      p = random.uniform(0,1)\n",
        "      # If p < 1/4 match genotype with previous neighbour at distance 2. \n",
        "      if p < 0.25:\n",
        "        index_two = index_one - 2\n",
        "      # If 1/4 <= p < 1/2 match genotype with previous neighbour at distance 1. \n",
        "      elif p < 0.5:\n",
        "        index_two = index_one - 1\n",
        "      # If 1/2 <= p < 3/4 match genotype with next neighbour at distance 1. \n",
        "      elif p < 0.75:\n",
        "        # Try-catch to avoid out of bounds exception. If index does not exist set to 0.\n",
        "        try:\n",
        "          index_two = index_one + 1\n",
        "          # Try catch was maybe not the best solution as had to force a possible error but this was the imp. that I had started.\n",
        "          geno_one = self.population[index_one] \n",
        "          geno_two = self.population[index_two]\n",
        "          return geno_one, geno_two, index_one, index_two\n",
        "        except:\n",
        "          index_two = 0\n",
        "      # If 3/4 <= p <= 1 match genotype with next neighbour at distance 2. \n",
        "      else:\n",
        "        # Try-catch to avoid out of bounds exception. If index does not exist set to 1.\n",
        "        try:\n",
        "          index_two = index_one + 2\n",
        "          geno_one = self.population[index_one] \n",
        "          geno_two = self.population[index_two]\n",
        "          return geno_one, geno_two, index_one, index_two\n",
        "        except:\n",
        "          index_two = 1\n",
        "      # State the two \"neighbouring\" genotypes to return.\n",
        "      geno_one = self.population[index_one] \n",
        "      geno_two = self.population[index_two] \n",
        "      return geno_one, geno_two, index_one, index_two\n",
        "    except:\n",
        "      print(\"Please pick a population size greater than {}.\\nSuggest trying > 2.\".format(self.population_size))\n",
        "\n",
        "\n",
        "  def fitness(self, geno_one, geno_two, index_one, index_two):\n",
        "    # Fitness returns the better of two genotypes in the form: Winner, loser.\n",
        "    # Benefit-cost evaluation.\n",
        "    geno_one_bene = np.sum([self.kp[i][0] * geno_one[i] for i, _ in enumerate(self.kp)])\n",
        "    geno_one_cost = np.sum([self.kp[i][1] * geno_one[i] for i, _ in enumerate(self.kp)])\n",
        "    #Benefit-cost evaluation.\n",
        "    geno_two_bene = np.sum([self.kp[i][0] * geno_two[i] for i, _ in enumerate(self.kp)])\n",
        "    geno_two_cost = np.sum([self.kp[i][1] * geno_two[i] for i, _ in enumerate(self.kp)])\n",
        "    # Case: benefits are equal, cost is evaluated.\n",
        "    if geno_one_bene == geno_two_bene:\n",
        "      if geno_one_cost <= geno_two_cost:\n",
        "        return geno_one, geno_two, index_one, index_two\n",
        "      else:\n",
        "        return geno_two, geno_one, index_two, index_one\n",
        "    # If genotype one has a greater benefit then that genotype is returned.\n",
        "    elif geno_one_bene > geno_two_bene:\n",
        "      return geno_one, geno_two, index_one, index_two\n",
        "    # If genotype one has a lesser benefit then that genotype is returned.\n",
        "    else:\n",
        "      return geno_two, geno_one, index_two, index_one\n",
        "\n",
        "\n",
        "  def mutate(self, g, index):\n",
        "    # Declare variable to hold mutated genotype\n",
        "    mutated_genotype = np.zeros(self.geno_shape, dtype=int)\n",
        "    # Setup: while loop.\n",
        "    current_sum = self.capacity + 1\n",
        "    # Values will be reassigned until the mutated genotype cost is below capacity.\n",
        "    while current_sum > self.capacity:\n",
        "      # Copy genotype to temporary genotype.\n",
        "      mutated_genotype = np.copy(g)\n",
        "      for i, _ in enumerate(mutated_genotype):\n",
        "        num = random.uniform(0,1)  \n",
        "        # Allow mutation rate to reassign values.\n",
        "        if num < self.mutation_rate:\n",
        "          # If \"on\" switch off.\n",
        "          if mutated_genotype[i]:\n",
        "            mutated_genotype[i] = 0\n",
        "          # If \"off\" switch on.\n",
        "          else:\n",
        "            mutated_genotype[i] = 1\n",
        "      # Update current sum for the while loop to evaluate.\n",
        "      current_sum =  np.sum([self.kp[i][1] * mutated_genotype[i] for i, _ in enumerate(self.kp)])\n",
        "    self.population[index] = mutated_genotype\n",
        "    return self.population[index]\n",
        "    # # Return mutated genotype to be used for comparison.\n",
        "    # return g\n",
        "\n",
        "  \n",
        "  def crossover(self, geno_one, geno_two):\n",
        "        # One Point Crossover.\n",
        "        if self.crossover_op == 0:\n",
        "          # Ensure crossed over genotype does not break capacity.\n",
        "          current_sum = self.capacity + 1\n",
        "          while current_sum > self.capacity:\n",
        "            # Find index to split winning genotype portion for crossover.\n",
        "            upper_bound = self.geno_shape\n",
        "            cross_index = random.randint(-upper_bound, upper_bound)\n",
        "            if cross_index <= 0:\n",
        "              geno_two[:cross_index] = geno_one[:cross_index]\n",
        "            else:\n",
        "              geno_two[cross_index:] = geno_one[cross_index:]\n",
        "            current_sum =  np.sum([self.kp[i][1] * geno_two[i] for i, _ in enumerate(self.kp)])\n",
        "        return geno_one, geno_two\n",
        "\n",
        "\n",
        "  #### COULD ADD FUNCTIONALITY TO PREVENT MUTATION AT CROSSED OVER POINTS??\n",
        "  def evolve(self, runs=None):\n",
        "    if runs == None:\n",
        "      runs = self.tournaments\n",
        "    # Initalize population.\n",
        "    self.initalize()\n",
        "    for _ in range(runs):\n",
        "      # Select and compare two random solutions.\n",
        "      geno_one, geno_two, index_one, index_two = self.selection()\n",
        "      # Winner, Loser\n",
        "      geno_one, geno_two, index_one, index_two = self.fitness(geno_one, geno_two, index_one, index_two)\n",
        "      # Calc \"winning\" genotype's benefit.\n",
        "      geno_one_bene = np.sum([self.kp[i][0] * geno_one[i] for i, _ in enumerate(self.kp)])\n",
        "      # Initalize geno_two_bene - Zero ensures entering loop.\n",
        "      geno_two_bene = 0\n",
        "      counter = 0\n",
        "      # Loop while benefit is below original genotype or 100 tries have been made.\n",
        "      while geno_one_bene > geno_two_bene or counter < 100:\n",
        "        counter += 1\n",
        "        geno_one, geno_two = self.crossover(geno_one, geno_two)\n",
        "        # Mutate the crossed over loser genotype.\n",
        "        geno_two = self.mutate(geno_two, index_two)\n",
        "        # Benefit Evaluation:\n",
        "        geno_two_bene = np.sum([self.kp[i][0] * geno_two[i] for i, _ in enumerate(self.kp)])\n"
      ],
      "execution_count": 0,
      "outputs": []
    },
    {
      "cell_type": "code",
      "metadata": {
        "id": "XpeTSpK1Xkl6",
        "colab_type": "code",
        "colab": {}
      },
      "source": [
        "mga = MicrobialGA(config[\"kp\"], config[\"capacity\"], crossover[\"One Point\"], population_size=100)\n",
        "mga.evolve()"
      ],
      "execution_count": 0,
      "outputs": []
    },
    {
      "cell_type": "code",
      "metadata": {
        "id": "QL8V2Ia66bxo",
        "colab_type": "code",
        "colab": {
          "base_uri": "https://localhost:8080/",
          "height": 52
        },
        "outputId": "89dc8dc3-3d8f-4401-e051-27873a10c825"
      },
      "source": [
        "pop = 50\n",
        "mga = MicrobialGA(config[\"kp\"], config[\"capacity\"], crossover[\"One Point\"], mutation_rate=0.25, population_size=pop)\n",
        "mga.evolve(500)\n",
        "\n",
        "test = list()\n",
        "for solution in mga.population:\n",
        "  test.append(np.sum([config[\"kp\"][i][0] * solution[i] for i, _ in enumerate(config[\"kp\"])]))\n",
        "\n",
        "val = max(test)\n",
        "\n",
        "print(val)\n",
        "\n",
        "counter = list()\n",
        "for item in test:\n",
        "  if item == 33:\n",
        "    counter.append(item)\n",
        "\n",
        "print(len(counter))\n"
      ],
      "execution_count": 349,
      "outputs": [
        {
          "output_type": "stream",
          "text": [
            "33\n",
            "50\n"
          ],
          "name": "stdout"
        }
      ]
    },
    {
      "cell_type": "code",
      "metadata": {
        "id": "eYljWlWAZzs5",
        "colab_type": "code",
        "colab": {
          "base_uri": "https://localhost:8080/",
          "height": 34
        },
        "outputId": "f2ec6d1a-fb9c-4fab-89d6-35bd7716f503"
      },
      "source": [
        "mga.population\n",
        "ls = [1,1,1,0,0,0,0,1,0,1]\n",
        "print(np.sum([config[\"kp\"][i][0] * ls[i] for i, _ in enumerate(config[\"kp\"])]))"
      ],
      "execution_count": 183,
      "outputs": [
        {
          "output_type": "stream",
          "text": [
            "25\n"
          ],
          "name": "stdout"
        }
      ]
    },
    {
      "cell_type": "code",
      "metadata": {
        "id": "yZBiJV-D1pI-",
        "colab_type": "code",
        "outputId": "4b632188-e09e-4f04-9954-c1816a9f9342",
        "colab": {
          "base_uri": "https://localhost:8080/",
          "height": 52
        }
      },
      "source": [
        "def one_point_cross_test(num,first=None,second=None):\n",
        "  if first:\n",
        "    one = np.zeros(10, dtype=int)\n",
        "    two = np.zeros(10, dtype=int)\n",
        "    one[:] = 3\n",
        "    two[:num] = one[:num]\n",
        "    print(one)\n",
        "    print(two)\n",
        "  \n",
        "  elif second:\n",
        "    one = np.zeros(10, dtype=int)\n",
        "    two = np.zeros(10, dtype=int)\n",
        "    one[:] = 3\n",
        "    two[num:] = one[num:]\n",
        "    print(one)\n",
        "    print(two)\n",
        "\n",
        "one_point_cross_test(-6,first=True,second=True)"
      ],
      "execution_count": 5,
      "outputs": [
        {
          "output_type": "stream",
          "text": [
            "[3 3 3 3 3 3 3 3 3 3]\n",
            "[3 3 3 3 0 0 0 0 0 0]\n"
          ],
          "name": "stdout"
        }
      ]
    },
    {
      "cell_type": "code",
      "metadata": {
        "id": "NZaPwFL8qFVt",
        "colab_type": "code",
        "outputId": "fb3f4699-f4c7-4a60-e1f9-fe5da343f3f9",
        "colab": {
          "base_uri": "https://localhost:8080/",
          "height": 54
        }
      },
      "source": [
        "storage = list()\n",
        "for _ in range(100):\n",
        "  num = random.uniform(0,10)\n",
        "  num = np.round(num).astype(\"int\")\n",
        "  num1 = random.randint(-1,1)\n",
        "  storage.append(num1)\n",
        "\n",
        "max(storage)\n",
        "\n",
        "print(storage)"
      ],
      "execution_count": 6,
      "outputs": [
        {
          "output_type": "stream",
          "text": [
            "[1, 1, 1, -1, 1, 1, 1, 0, -1, 1, 0, 1, 1, 1, -1, 1, -1, 1, 1, -1, 0, 1, -1, -1, 1, -1, 1, -1, -1, -1, -1, -1, -1, 0, 1, 1, -1, -1, 1, 0, 1, -1, 0, -1, -1, 0, -1, 1, 0, 1, 1, 1, 1, -1, 1, 1, -1, 0, -1, 1, 1, -1, -1, 0, 0, 1, 1, -1, -1, 1, 1, 0, 1, -1, 1, -1, 1, -1, 0, 1, -1, 1, 0, 1, 1, 1, -1, -1, -1, -1, -1, -1, 0, 1, 1, 0, 1, -1, 1, 0]\n"
          ],
          "name": "stdout"
        }
      ]
    },
    {
      "cell_type": "code",
      "metadata": {
        "id": "J-PnhmuV6aoj",
        "colab_type": "code",
        "outputId": "176ac9a0-f3f3-44af-b8f2-17fcfddf6e72",
        "colab": {
          "base_uri": "https://localhost:8080/",
          "height": 70
        }
      },
      "source": [
        "one, two = mga.selection()\n",
        "ONE = np.sum([config[\"kp\"][i][0] * one[i] for i, _ in enumerate(config[\"kp\"])])\n",
        "TWO = np.sum([config[\"kp\"][i][0] * two[i] for i, _ in enumerate(config[\"kp\"])])\n",
        "print(\"Array One: {} and Array Two: {}\".format(one,two))\n",
        "print(\"Array One: {} and Array Two: {}\".format(ONE,TWO))\n",
        "one, two = mga.fitness(one,two)\n",
        "print(\"Array One: {} and Array Two: {}\".format(one,two))"
      ],
      "execution_count": 7,
      "outputs": [
        {
          "output_type": "stream",
          "text": [
            "Array One: [0 0 0 0 1 0 1 0 0 0] and Array Two: [1 0 0 1 0 0 0 0 0 0]\n",
            "Array One: 6 and Array Two: 14\n",
            "Array One: [1 0 0 1 0 0 0 0 0 0] and Array Two: [0 0 0 0 1 0 1 0 0 0]\n"
          ],
          "name": "stdout"
        }
      ]
    },
    {
      "cell_type": "code",
      "metadata": {
        "id": "yGU85tkQNm4J",
        "colab_type": "code",
        "outputId": "1a7c72cb-c810-4d15-9023-712b84002ebc",
        "colab": {
          "base_uri": "https://localhost:8080/",
          "height": 1000
        }
      },
      "source": [
        "mga = MicrobialGA(config[\"kp\"], config[\"capacity\"], 10)\n",
        "mga.population\n",
        "for i, item in enumerate(mga.population):\n",
        "  current_sum = 20 + 1\n",
        "  # Ensure random values do not cause a cost above capacity.\n",
        "  while current_sum > 20:\n",
        "    for i, _ in enumerate(item):\n",
        "      num = random.uniform(0,1)  \n",
        "      item[i] = np.round(num)\n",
        "      # Update current sum until it holds a value less than capacity.\n",
        "      current_sum =  np.sum([mga.kp[i][1] * item[i] for i, _ in enumerate(mga.kp)])\n",
        "mga.population"
      ],
      "execution_count": 8,
      "outputs": [
        {
          "output_type": "execute_result",
          "data": {
            "text/plain": [
              "array([[0, 1, 0, 0, 0, 0, 1, 0, 1, 0],\n",
              "       [1, 0, 0, 0, 1, 0, 0, 1, 0, 0],\n",
              "       [0, 1, 1, 1, 0, 1, 0, 0, 0, 0],\n",
              "       [0, 0, 0, 0, 1, 0, 0, 1, 0, 0],\n",
              "       [1, 0, 0, 0, 1, 0, 0, 0, 0, 1],\n",
              "       [1, 1, 0, 0, 1, 0, 0, 1, 1, 0],\n",
              "       [1, 0, 1, 0, 1, 0, 0, 0, 0, 0],\n",
              "       [0, 1, 0, 1, 1, 0, 0, 1, 0, 0],\n",
              "       [0, 0, 0, 0, 1, 0, 0, 1, 0, 0],\n",
              "       [1, 0, 0, 0, 0, 0, 0, 0, 1, 1],\n",
              "       [0, 1, 0, 0, 1, 0, 0, 0, 1, 0],\n",
              "       [0, 0, 0, 1, 0, 0, 0, 0, 0, 0],\n",
              "       [1, 0, 1, 0, 0, 0, 0, 1, 1, 0],\n",
              "       [0, 1, 1, 1, 0, 0, 0, 0, 1, 0],\n",
              "       [0, 0, 0, 0, 1, 0, 1, 1, 0, 0],\n",
              "       [1, 0, 0, 1, 0, 0, 1, 0, 0, 0],\n",
              "       [1, 0, 0, 0, 0, 0, 0, 0, 0, 1],\n",
              "       [0, 0, 0, 0, 1, 1, 0, 1, 0, 0],\n",
              "       [0, 0, 0, 1, 0, 0, 0, 1, 0, 1],\n",
              "       [1, 1, 0, 0, 0, 0, 0, 0, 1, 1],\n",
              "       [0, 1, 1, 1, 1, 0, 0, 0, 0, 0],\n",
              "       [0, 0, 0, 1, 0, 0, 0, 1, 1, 0],\n",
              "       [0, 0, 1, 0, 0, 0, 0, 1, 1, 0],\n",
              "       [0, 1, 1, 1, 1, 0, 0, 0, 0, 0],\n",
              "       [1, 0, 0, 0, 0, 1, 0, 0, 1, 0],\n",
              "       [0, 1, 0, 0, 0, 1, 0, 0, 1, 0],\n",
              "       [1, 0, 0, 1, 1, 0, 0, 0, 0, 0],\n",
              "       [0, 0, 0, 1, 0, 0, 0, 0, 1, 1],\n",
              "       [1, 0, 0, 0, 0, 1, 0, 1, 0, 0],\n",
              "       [0, 0, 1, 1, 0, 0, 0, 0, 0, 1],\n",
              "       [0, 1, 0, 0, 1, 0, 0, 1, 0, 0],\n",
              "       [0, 1, 1, 0, 0, 0, 0, 0, 0, 1],\n",
              "       [0, 1, 0, 1, 0, 0, 0, 0, 1, 0],\n",
              "       [1, 1, 0, 0, 0, 0, 0, 0, 0, 0],\n",
              "       [1, 1, 1, 0, 0, 0, 0, 0, 0, 0],\n",
              "       [1, 0, 0, 0, 0, 0, 1, 1, 1, 0],\n",
              "       [0, 1, 0, 0, 1, 0, 0, 0, 0, 1],\n",
              "       [0, 0, 0, 0, 0, 0, 0, 0, 1, 1],\n",
              "       [0, 1, 0, 0, 0, 1, 0, 0, 0, 0],\n",
              "       [0, 0, 0, 0, 0, 1, 0, 0, 1, 0],\n",
              "       [0, 1, 0, 1, 0, 0, 1, 0, 0, 0],\n",
              "       [0, 1, 0, 0, 1, 1, 0, 0, 0, 0],\n",
              "       [0, 0, 1, 0, 0, 1, 0, 1, 1, 0],\n",
              "       [1, 0, 0, 1, 0, 0, 1, 1, 0, 0],\n",
              "       [0, 0, 0, 1, 1, 0, 0, 1, 1, 0],\n",
              "       [0, 1, 0, 0, 0, 1, 0, 1, 0, 0],\n",
              "       [0, 0, 1, 0, 0, 0, 0, 1, 1, 1],\n",
              "       [1, 1, 0, 0, 0, 1, 0, 0, 0, 0],\n",
              "       [0, 0, 1, 1, 0, 0, 0, 0, 0, 1],\n",
              "       [1, 1, 1, 0, 0, 0, 0, 0, 0, 1],\n",
              "       [0, 0, 0, 1, 1, 0, 0, 0, 1, 0],\n",
              "       [0, 1, 0, 1, 1, 0, 0, 1, 0, 0],\n",
              "       [0, 1, 1, 1, 0, 1, 0, 0, 0, 0],\n",
              "       [1, 1, 1, 1, 0, 0, 0, 0, 0, 0],\n",
              "       [1, 1, 0, 0, 0, 0, 0, 0, 0, 0],\n",
              "       [0, 0, 0, 0, 0, 0, 0, 0, 0, 1],\n",
              "       [0, 1, 0, 1, 0, 0, 0, 1, 0, 1],\n",
              "       [0, 0, 0, 1, 0, 0, 0, 1, 0, 0],\n",
              "       [0, 1, 1, 0, 1, 0, 0, 0, 0, 0],\n",
              "       [1, 1, 0, 1, 1, 0, 0, 0, 0, 0],\n",
              "       [1, 0, 0, 1, 0, 0, 0, 0, 0, 0],\n",
              "       [1, 0, 0, 0, 0, 0, 0, 1, 0, 1],\n",
              "       [0, 1, 0, 0, 0, 1, 0, 0, 1, 0],\n",
              "       [0, 1, 0, 0, 0, 1, 0, 0, 0, 1],\n",
              "       [1, 0, 0, 1, 0, 0, 0, 0, 1, 0],\n",
              "       [1, 0, 1, 1, 0, 0, 0, 1, 0, 0],\n",
              "       [0, 1, 0, 0, 0, 1, 0, 0, 1, 0],\n",
              "       [0, 0, 1, 0, 0, 0, 0, 1, 0, 1],\n",
              "       [0, 1, 1, 1, 0, 0, 0, 0, 0, 1],\n",
              "       [1, 1, 0, 0, 0, 1, 0, 0, 0, 0],\n",
              "       [0, 0, 0, 0, 1, 0, 0, 1, 1, 0],\n",
              "       [0, 1, 0, 0, 0, 0, 0, 1, 1, 0],\n",
              "       [1, 0, 0, 0, 1, 1, 0, 0, 0, 0],\n",
              "       [0, 0, 0, 0, 1, 0, 0, 0, 0, 0],\n",
              "       [1, 1, 0, 0, 0, 0, 0, 0, 0, 0],\n",
              "       [1, 0, 0, 1, 0, 0, 0, 0, 1, 0],\n",
              "       [0, 1, 0, 0, 0, 1, 0, 1, 1, 0],\n",
              "       [0, 1, 0, 0, 0, 0, 0, 0, 1, 1],\n",
              "       [1, 1, 0, 1, 0, 0, 0, 1, 1, 0],\n",
              "       [0, 1, 0, 1, 0, 1, 0, 1, 0, 0],\n",
              "       [0, 0, 0, 1, 0, 1, 0, 0, 0, 0],\n",
              "       [1, 0, 0, 1, 0, 0, 0, 1, 1, 0],\n",
              "       [0, 1, 1, 0, 0, 0, 0, 0, 1, 0],\n",
              "       [0, 0, 0, 0, 1, 0, 0, 1, 0, 0],\n",
              "       [1, 0, 0, 0, 1, 0, 0, 0, 0, 0],\n",
              "       [1, 0, 0, 0, 0, 0, 0, 0, 1, 0],\n",
              "       [0, 0, 1, 0, 1, 0, 0, 1, 1, 0],\n",
              "       [1, 1, 0, 1, 0, 0, 0, 0, 0, 0],\n",
              "       [0, 1, 0, 1, 0, 0, 0, 1, 0, 1],\n",
              "       [0, 1, 0, 1, 0, 0, 0, 0, 0, 1],\n",
              "       [0, 0, 0, 1, 0, 0, 0, 1, 0, 1],\n",
              "       [0, 0, 0, 0, 0, 0, 0, 1, 1, 1],\n",
              "       [0, 0, 1, 0, 0, 0, 0, 1, 1, 0],\n",
              "       [0, 0, 0, 0, 1, 0, 0, 1, 0, 0],\n",
              "       [1, 1, 0, 0, 1, 0, 0, 0, 1, 0],\n",
              "       [1, 0, 0, 0, 1, 0, 0, 0, 1, 0],\n",
              "       [0, 1, 0, 1, 0, 1, 0, 1, 0, 0],\n",
              "       [1, 0, 1, 1, 0, 0, 0, 0, 0, 0],\n",
              "       [0, 1, 0, 0, 0, 0, 1, 1, 1, 0],\n",
              "       [1, 1, 0, 1, 0, 0, 0, 1, 0, 0]])"
            ]
          },
          "metadata": {
            "tags": []
          },
          "execution_count": 8
        }
      ]
    },
    {
      "cell_type": "code",
      "metadata": {
        "id": "chZIoyC-mDe0",
        "colab_type": "code",
        "outputId": "dcffa3ae-8931-49d0-bb2c-592924724b75",
        "colab": {
          "base_uri": "https://localhost:8080/",
          "height": 1000
        }
      },
      "source": [
        "print(mga.population)\n",
        "print()\n",
        "print(mga.population[0])\n",
        "print(mga.population[-1])"
      ],
      "execution_count": 9,
      "outputs": [
        {
          "output_type": "stream",
          "text": [
            "[[0 1 0 0 0 0 1 0 1 0]\n",
            " [1 0 0 0 1 0 0 1 0 0]\n",
            " [0 1 1 1 0 1 0 0 0 0]\n",
            " [0 0 0 0 1 0 0 1 0 0]\n",
            " [1 0 0 0 1 0 0 0 0 1]\n",
            " [1 1 0 0 1 0 0 1 1 0]\n",
            " [1 0 1 0 1 0 0 0 0 0]\n",
            " [0 1 0 1 1 0 0 1 0 0]\n",
            " [0 0 0 0 1 0 0 1 0 0]\n",
            " [1 0 0 0 0 0 0 0 1 1]\n",
            " [0 1 0 0 1 0 0 0 1 0]\n",
            " [0 0 0 1 0 0 0 0 0 0]\n",
            " [1 0 1 0 0 0 0 1 1 0]\n",
            " [0 1 1 1 0 0 0 0 1 0]\n",
            " [0 0 0 0 1 0 1 1 0 0]\n",
            " [1 0 0 1 0 0 1 0 0 0]\n",
            " [1 0 0 0 0 0 0 0 0 1]\n",
            " [0 0 0 0 1 1 0 1 0 0]\n",
            " [0 0 0 1 0 0 0 1 0 1]\n",
            " [1 1 0 0 0 0 0 0 1 1]\n",
            " [0 1 1 1 1 0 0 0 0 0]\n",
            " [0 0 0 1 0 0 0 1 1 0]\n",
            " [0 0 1 0 0 0 0 1 1 0]\n",
            " [0 1 1 1 1 0 0 0 0 0]\n",
            " [1 0 0 0 0 1 0 0 1 0]\n",
            " [0 1 0 0 0 1 0 0 1 0]\n",
            " [1 0 0 1 1 0 0 0 0 0]\n",
            " [0 0 0 1 0 0 0 0 1 1]\n",
            " [1 0 0 0 0 1 0 1 0 0]\n",
            " [0 0 1 1 0 0 0 0 0 1]\n",
            " [0 1 0 0 1 0 0 1 0 0]\n",
            " [0 1 1 0 0 0 0 0 0 1]\n",
            " [0 1 0 1 0 0 0 0 1 0]\n",
            " [1 1 0 0 0 0 0 0 0 0]\n",
            " [1 1 1 0 0 0 0 0 0 0]\n",
            " [1 0 0 0 0 0 1 1 1 0]\n",
            " [0 1 0 0 1 0 0 0 0 1]\n",
            " [0 0 0 0 0 0 0 0 1 1]\n",
            " [0 1 0 0 0 1 0 0 0 0]\n",
            " [0 0 0 0 0 1 0 0 1 0]\n",
            " [0 1 0 1 0 0 1 0 0 0]\n",
            " [0 1 0 0 1 1 0 0 0 0]\n",
            " [0 0 1 0 0 1 0 1 1 0]\n",
            " [1 0 0 1 0 0 1 1 0 0]\n",
            " [0 0 0 1 1 0 0 1 1 0]\n",
            " [0 1 0 0 0 1 0 1 0 0]\n",
            " [0 0 1 0 0 0 0 1 1 1]\n",
            " [1 1 0 0 0 1 0 0 0 0]\n",
            " [0 0 1 1 0 0 0 0 0 1]\n",
            " [1 1 1 0 0 0 0 0 0 1]\n",
            " [0 0 0 1 1 0 0 0 1 0]\n",
            " [0 1 0 1 1 0 0 1 0 0]\n",
            " [0 1 1 1 0 1 0 0 0 0]\n",
            " [1 1 1 1 0 0 0 0 0 0]\n",
            " [1 1 0 0 0 0 0 0 0 0]\n",
            " [0 0 0 0 0 0 0 0 0 1]\n",
            " [0 1 0 1 0 0 0 1 0 1]\n",
            " [0 0 0 1 0 0 0 1 0 0]\n",
            " [0 1 1 0 1 0 0 0 0 0]\n",
            " [1 1 0 1 1 0 0 0 0 0]\n",
            " [1 0 0 1 0 0 0 0 0 0]\n",
            " [1 0 0 0 0 0 0 1 0 1]\n",
            " [0 1 0 0 0 1 0 0 1 0]\n",
            " [0 1 0 0 0 1 0 0 0 1]\n",
            " [1 0 0 1 0 0 0 0 1 0]\n",
            " [1 0 1 1 0 0 0 1 0 0]\n",
            " [0 1 0 0 0 1 0 0 1 0]\n",
            " [0 0 1 0 0 0 0 1 0 1]\n",
            " [0 1 1 1 0 0 0 0 0 1]\n",
            " [1 1 0 0 0 1 0 0 0 0]\n",
            " [0 0 0 0 1 0 0 1 1 0]\n",
            " [0 1 0 0 0 0 0 1 1 0]\n",
            " [1 0 0 0 1 1 0 0 0 0]\n",
            " [0 0 0 0 1 0 0 0 0 0]\n",
            " [1 1 0 0 0 0 0 0 0 0]\n",
            " [1 0 0 1 0 0 0 0 1 0]\n",
            " [0 1 0 0 0 1 0 1 1 0]\n",
            " [0 1 0 0 0 0 0 0 1 1]\n",
            " [1 1 0 1 0 0 0 1 1 0]\n",
            " [0 1 0 1 0 1 0 1 0 0]\n",
            " [0 0 0 1 0 1 0 0 0 0]\n",
            " [1 0 0 1 0 0 0 1 1 0]\n",
            " [0 1 1 0 0 0 0 0 1 0]\n",
            " [0 0 0 0 1 0 0 1 0 0]\n",
            " [1 0 0 0 1 0 0 0 0 0]\n",
            " [1 0 0 0 0 0 0 0 1 0]\n",
            " [0 0 1 0 1 0 0 1 1 0]\n",
            " [1 1 0 1 0 0 0 0 0 0]\n",
            " [0 1 0 1 0 0 0 1 0 1]\n",
            " [0 1 0 1 0 0 0 0 0 1]\n",
            " [0 0 0 1 0 0 0 1 0 1]\n",
            " [0 0 0 0 0 0 0 1 1 1]\n",
            " [0 0 1 0 0 0 0 1 1 0]\n",
            " [0 0 0 0 1 0 0 1 0 0]\n",
            " [1 1 0 0 1 0 0 0 1 0]\n",
            " [1 0 0 0 1 0 0 0 1 0]\n",
            " [0 1 0 1 0 1 0 1 0 0]\n",
            " [1 0 1 1 0 0 0 0 0 0]\n",
            " [0 1 0 0 0 0 1 1 1 0]\n",
            " [1 1 0 1 0 0 0 1 0 0]]\n",
            "\n",
            "[0 1 0 0 0 0 1 0 1 0]\n",
            "[1 1 0 1 0 0 0 1 0 0]\n"
          ],
          "name": "stdout"
        }
      ]
    },
    {
      "cell_type": "code",
      "metadata": {
        "id": "GNF_iecxmejg",
        "colab_type": "code",
        "outputId": "0eaba9da-2262-454c-96db-ff0cb6c203ee",
        "colab": {
          "base_uri": "https://localhost:8080/",
          "height": 34
        }
      },
      "source": [
        "test = np.zeros(10,dtype=int)\n",
        "upper_bound = 10 - 1\n",
        "num = random.uniform(0,upper_bound)  \n",
        "num = np.round(num).astype(\"int\")\n",
        "num = num + 1\n",
        "test[0] = 999\n",
        "try:\n",
        "  print(test[num])\n",
        "except:\n",
        "  print(num)\n",
        "  print(test[0])"
      ],
      "execution_count": 10,
      "outputs": [
        {
          "output_type": "stream",
          "text": [
            "0\n"
          ],
          "name": "stdout"
        }
      ]
    }
  ]
}