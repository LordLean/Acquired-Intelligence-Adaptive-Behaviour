{
  "nbformat": 4,
  "nbformat_minor": 0,
  "metadata": {
    "colab": {
      "name": "ML_Coursework.ipynb",
      "provenance": [],
      "collapsed_sections": [],
      "machine_shape": "hm",
      "authorship_tag": "ABX9TyPJIV0pf0VbZ6+NV7HyiDEZ",
      "include_colab_link": true
    },
    "kernelspec": {
      "name": "python3",
      "display_name": "Python 3"
    }
  },
  "cells": [
    {
      "cell_type": "markdown",
      "metadata": {
        "id": "view-in-github",
        "colab_type": "text"
      },
      "source": [
        "<a href=\"https://colab.research.google.com/github/LordLean/Acquired-Intelligence-Adaptive-Behaviour/blob/master/Kaggle/ML_Coursework.ipynb\" target=\"_parent\"><img src=\"https://colab.research.google.com/assets/colab-badge.svg\" alt=\"Open In Colab\"/></a>"
      ]
    },
    {
      "cell_type": "code",
      "metadata": {
        "id": "_DQcGG2FEjGb",
        "colab_type": "code",
        "outputId": "97ff3a40-eb01-4d2f-d60a-c553429c4058",
        "colab": {
          "resources": {
            "http://localhost:8080/nbextensions/google.colab/files.js": {
              "data": "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",
              "ok": true,
              "headers": [
                [
                  "content-type",
                  "application/javascript"
                ]
              ],
              "status": 200,
              "status_text": ""
            }
          },
          "base_uri": "https://localhost:8080/",
          "height": 90
        }
      },
      "source": [
        "from google.colab import files\n",
        "files.upload()"
      ],
      "execution_count": 1,
      "outputs": [
        {
          "output_type": "display_data",
          "data": {
            "text/html": [
              "\n",
              "     <input type=\"file\" id=\"files-f03a5204-d985-47f9-91ed-32e99149f803\" name=\"files[]\" multiple disabled />\n",
              "     <output id=\"result-f03a5204-d985-47f9-91ed-32e99149f803\">\n",
              "      Upload widget is only available when the cell has been executed in the\n",
              "      current browser session. Please rerun this cell to enable.\n",
              "      </output>\n",
              "      <script src=\"/nbextensions/google.colab/files.js\"></script> "
            ],
            "text/plain": [
              "<IPython.core.display.HTML object>"
            ]
          },
          "metadata": {
            "tags": []
          }
        },
        {
          "output_type": "stream",
          "text": [
            "Saving kaggle.json to kaggle.json\n"
          ],
          "name": "stdout"
        },
        {
          "output_type": "execute_result",
          "data": {
            "text/plain": [
              "{'kaggle.json': b'{\"username\":\"alexholder\",\"key\":\"d2922de94720de89ce73474159860152\"}'}"
            ]
          },
          "metadata": {
            "tags": []
          },
          "execution_count": 1
        }
      ]
    },
    {
      "cell_type": "code",
      "metadata": {
        "id": "8LiNT-LaErzg",
        "colab_type": "code",
        "outputId": "86ca75e4-5dc8-43dc-fe0a-d7ad556f1c04",
        "colab": {
          "base_uri": "https://localhost:8080/",
          "height": 461
        }
      },
      "source": [
        "# Make directory and copy.\n",
        "!mkdir -p ~/.kaggle\n",
        "!cp kaggle.json ~/.kaggle/\n",
        "\n",
        "#!pip install kaggle # Install kaggle.\n",
        "\n",
        "# Change access permissions.\n",
        "!chmod 600 /root/.kaggle/kaggle.json\n",
        "\n",
        "#!kaggle datasets list # Lists kaggle datasets.\n",
        "\n",
        "# Download using Kaggle API.\n",
        "!kaggle competitions download -c brighton-a-memorable-city\n",
        "\n",
        "# Unzip data\n",
        "!unzip additional_training.csv\n",
        "!unzip training.csv\n",
        "!unzip testing.csv\n",
        "\n",
        "# List files in dir.\n",
        "# !ls"
      ],
      "execution_count": 2,
      "outputs": [
        {
          "output_type": "stream",
          "text": [
            "Warning: Looks like you're using an outdated API Version, please consider updating (server 1.5.6 / client 1.5.4)\n",
            "Downloading testing.csv.zip to /content\n",
            " 88% 75.0M/85.7M [00:00<00:00, 59.1MB/s]\n",
            "100% 85.7M/85.7M [00:00<00:00, 93.1MB/s]\n",
            "Downloading test_proportions.csv to /content\n",
            "  0% 0.00/30.0 [00:00<?, ?B/s]\n",
            "100% 30.0/30.0 [00:00<00:00, 25.6kB/s]\n",
            "Downloading additional_training.csv.zip to /content\n",
            " 42% 6.00M/14.2M [00:00<00:00, 61.2MB/s]\n",
            "100% 14.2M/14.2M [00:00<00:00, 69.1MB/s]\n",
            "Downloading training.csv.zip to /content\n",
            "  0% 0.00/1.65M [00:00<?, ?B/s]\n",
            "100% 1.65M/1.65M [00:00<00:00, 113MB/s]\n",
            "Downloading annotation_confidence.csv to /content\n",
            "  0% 0.00/19.6k [00:00<?, ?B/s]\n",
            "100% 19.6k/19.6k [00:00<00:00, 20.1MB/s]\n",
            "Downloading sample_valid_submission.csv to /content\n",
            "  0% 0.00/81.9k [00:00<?, ?B/s]\n",
            "100% 81.9k/81.9k [00:00<00:00, 85.4MB/s]\n",
            "Archive:  additional_training.csv.zip\n",
            "  inflating: additional_training.csv  \n",
            "Archive:  training.csv.zip\n",
            "  inflating: training.csv            \n",
            "Archive:  testing.csv.zip\n",
            "  inflating: testing.csv             \n"
          ],
          "name": "stdout"
        }
      ]
    },
    {
      "cell_type": "code",
      "metadata": {
        "id": "Sj4wletpIhSU",
        "colab_type": "code",
        "colab": {}
      },
      "source": [
        "import numpy as np\n",
        "import pandas as pd\n",
        "import matplotlib.pyplot as plt\n",
        "\n",
        "from sklearn.neural_network import MLPClassifier\n",
        "from sklearn.metrics import confusion_matrix\n",
        "\n",
        "from sklearn.feature_selection import VarianceThreshold\n",
        "from sklearn.decomposition import PCA\n",
        "\n",
        "from sklearn.preprocessing import StandardScaler\n",
        "from sklearn.preprocessing import MinMaxScaler\n",
        "from sklearn.preprocessing import minmax_scale\n",
        "from sklearn.preprocessing import MaxAbsScaler\n",
        "from sklearn.preprocessing import RobustScaler\n",
        "from sklearn.preprocessing import Normalizer\n",
        "from sklearn.preprocessing import QuantileTransformer\n",
        "from sklearn.preprocessing import PowerTransformer"
      ],
      "execution_count": 0,
      "outputs": []
    },
    {
      "cell_type": "code",
      "metadata": {
        "id": "TfbR80S6InuE",
        "colab_type": "code",
        "colab": {}
      },
      "source": [
        "train = pd.read_csv(\"/content/training.csv\")\n",
        "test = pd.read_csv(\"/content/testing.csv\")\n",
        "test_proportions = pd.read_csv(\"/content/test_proportions.csv\")"
      ],
      "execution_count": 0,
      "outputs": []
    },
    {
      "cell_type": "code",
      "metadata": {
        "id": "OCscxaKVtmp7",
        "colab_type": "code",
        "colab": {}
      },
      "source": [
        "# print(train[:].head())\n",
        "# print(train[:].tail())\n",
        "# print(test[:].head())\n",
        "# print(test[:].tail())"
      ],
      "execution_count": 0,
      "outputs": []
    },
    {
      "cell_type": "code",
      "metadata": {
        "id": "R_Pq2_xyPtEC",
        "colab_type": "code",
        "outputId": "6b2056b1-c97b-4533-efbd-0f67e361ea11",
        "colab": {
          "base_uri": "https://localhost:8080/",
          "height": 357
        }
      },
      "source": [
        "# Train on train, test on train[split].\n",
        "\n",
        "split_spot = 40\n",
        "\n",
        "train_split_train = train.iloc[:split_spot, 1:-1].to_numpy(copy=True)\n",
        "train_pred_train = train.iloc[:split_spot, -1].to_numpy(copy=True)\n",
        "print(\"Length match: {}\".format(len(train_split_train) == len(train_pred_train)))\n",
        "\n",
        "train_split_test = train.iloc[split_spot: ,1:-1].to_numpy(copy=True)\n",
        "train_pred_test = train.iloc[split_spot: ,-1].to_numpy(copy=True)\n",
        "\n",
        "X = train_split_train\n",
        "y = train_pred_train \n",
        "\n",
        "clf = MLPClassifier(solver=\"lbfgs\", alpha=1e-5, random_state=1)\n",
        "\n",
        "clf.fit(X,y)\n",
        "\n",
        "predictions = clf.predict(train_split_test)\n",
        "\n",
        "accuracy = 0 \n",
        "\n",
        "for i, (p1,p2) in enumerate(zip(predictions, train_pred_test)):\n",
        "  if p1 == p2:\n",
        "    accuracy += 1\n",
        "\n",
        "print(\"Proportional Accuracy: {}\".format(accuracy / len(predictions)))\n",
        "\n",
        "\n",
        "conf = confusion_matrix(train_pred_test, predictions)\n",
        "df = pd.DataFrame(conf)\n",
        "print(df)\n",
        "\n",
        "plt.imshow(conf, cmap=\"binary\", interpolation=\"None\")\n",
        "#plt.axis(\"off\")\n",
        "plt.show()"
      ],
      "execution_count": 149,
      "outputs": [
        {
          "output_type": "stream",
          "text": [
            "Length match: True\n",
            "Proportional Accuracy: 0.8309178743961353\n",
            "   0    1\n",
            "0  1   31\n",
            "1  4  171\n"
          ],
          "name": "stdout"
        },
        {
          "output_type": "display_data",
          "data": {
            "image/png": "[encoded data removed]",
            "text/plain": [
              "<Figure size 432x288 with 1 Axes>"
            ]
          },
          "metadata": {
            "tags": [],
            "needs_background": "light"
          }
        }
      ]
    },
    {
      "cell_type": "code",
      "metadata": {
        "id": "Pf4GE58-IM10",
        "colab_type": "code",
        "colab": {}
      },
      "source": [
        "# START--------------------------------------------------------------------------------------------------\n",
        "# -------------------------------------------------------------------------------------------------------\n",
        "# -------------------------------------------------------------------------------------------------------\n",
        "\n",
        "# ------ Set up observed predictions.\n",
        "\n",
        "# Get all observed predictions 0 / 1.\n",
        "train_observed = train.iloc[:, -1]\n",
        "# .values()\n",
        "y = train_observed.to_numpy(copy=True) "
      ],
      "execution_count": 0,
      "outputs": []
    },
    {
      "cell_type": "code",
      "metadata": {
        "id": "23ePiS_7fMn6",
        "colab_type": "code",
        "colab": {
          "base_uri": "https://localhost:8080/",
          "height": 350
        },
        "outputId": "01c10a15-5de8-4ad6-e251-f8958f7712bd"
      },
      "source": [
        "# Data representation:\n",
        "\n",
        "# Training ---\n",
        "trn_c0 = np.count_nonzero(y == 0)\n",
        "trn_c1 = np.count_nonzero(y == 1)\n",
        "\n",
        "autolabel_vals = [trn_c0,trn_c1] # Hold vals for rect labels.\n",
        "\n",
        "trn_c0 = round((trn_c0/len(y)*100),2)\n",
        "trn_c1 = round((trn_c1/len(y)*100),2)\n",
        "trn_bar = [trn_c0,trn_c1] # Hold vals for bar plot.\n",
        "\n",
        "\n",
        "# Testing ---\n",
        "tst_c0 = float(test_proportions.iloc[0,0][:6])\n",
        "\n",
        "# Hold vals for rect labels.\n",
        "autolabel_vals.append(tst_c0*len(test))\n",
        "autolabel_vals.append((1-tst_c0)*len(test))\n",
        "\n",
        "tst_c0 = round((tst_c0*100),2)\n",
        "tst_c1 = 100 - tst_c0\n",
        "tst_bar = [tst_c0,tst_c1] # Hold vals for bar plot.\n",
        "\n",
        "\n",
        "print(\"Proportions\")\n",
        "print(\"Training data:  Class0: {}%   Class1: {}%\".format(trn_c0,trn_c1) +\n",
        "      \"   Proportion: {} : 1\".format(round((trn_c0/trn_c1),4)))\n",
        "print(\"Testing data:   Class0: {}%   Class1: {}%\".format(tst_c0,tst_c1) + \n",
        "      \"   Proportion: {} : 1\".format(round((tst_c0/tst_c1),4)))\n",
        "\n",
        "\n",
        "# Bar Plot.\n",
        "labels = [\"Class0 - Memorable\", \"Class1 - Non Memorable\"]\n",
        "x = np.arange(len(labels))\n",
        "width = 0.25\n",
        "\n",
        "fig, ax = plt.subplots()\n",
        "rects1 = ax.bar(x - width/2, trn_bar, width, label='Train')\n",
        "rects2 = ax.bar(x + width/2, tst_bar, width, label='Test')\n",
        "\n",
        "ax.set_ylabel(\"PERCENTAGE PROPORTION\")\n",
        "ax.set_ylim([0,100])\n",
        "#ax.axes.get_yaxis().set_visible(False)\n",
        "ax.set_xticks(x)\n",
        "ax.set_xticklabels(labels)\n",
        "ax.legend()\n",
        "\n",
        "\n",
        "############\n",
        "'''https://matplotlib.org/3.1.1/gallery/lines_bars_and_markers/barchart.html'''\n",
        "def autolabel(rects):\n",
        "  xyz = []\n",
        "  for i, rect in enumerate(rects):\n",
        "    height = rect.get_height()\n",
        "    xy=(rect.get_x() + rect.get_width() / 2, height)\n",
        "    xyz.append(xy)\n",
        "for i, (coord, val) in enumerate(zip(xyz,autolabel_vals)):\n",
        "  ax.annotate(s=round(val),\n",
        "              xy=coord,\n",
        "              xytext=(0, 3),  # 3 points vertical offset\n",
        "              textcoords=\"offset points\",\n",
        "              ha='center', va='bottom')\n",
        "############\n",
        "autolabel(rects1)\n",
        "autolabel(rects2)\n",
        "\n",
        "\n",
        "fig.tight_layout()\n",
        "\n",
        "plt.show()"
      ],
      "execution_count": 151,
      "outputs": [
        {
          "output_type": "stream",
          "text": [
            "Proportions\n",
            "Training data:  Class0: 15.38%   Class1: 84.62%   Proportion: 0.1818 : 1\n",
            "Testing data:   Class0: 61.52%   Class1: 38.48%   Proportion: 1.5988 : 1\n"
          ],
          "name": "stdout"
        },
        {
          "output_type": "display_data",
          "data": {
            "image/png": "[encoded data removed]",
            "text/plain": [
              "<Figure size 432x288 with 1 Axes>"
            ]
          },
          "metadata": {
            "tags": [],
            "needs_background": "light"
          }
        }
      ]
    },
    {
      "cell_type": "code",
      "metadata": {
        "id": "M4ix2rA15YyY",
        "colab_type": "code",
        "colab": {}
      },
      "source": [
        "# ------ Set up training and testing data.\n",
        "\n",
        "# Split standardizer by hand.\n",
        "# Training data.\n",
        "df_cnn = train.iloc[:, 1:-513]\n",
        "df_gist = train.iloc[:, -513:-1]\n",
        "\n",
        "X_cnn = df_cnn.to_numpy(copy=True)\n",
        "X_gist = df_gist.to_numpy(copy=True)\n",
        "\n",
        "# Testing data.\n",
        "df_test_cnn = test.iloc[:,1:-512]\n",
        "df_test_gist = test.iloc[:,-512:]\n",
        "\n",
        "test_values_cnn = df_test_cnn.to_numpy(copy=True)\n",
        "test_values_gist = df_test_gist.to_numpy(copy=True)\n",
        "\n",
        "\n",
        "# Set scale method, not that it makes a ******* difference.\n",
        "# Tho probabily should use SKLEARNs package.\n",
        "# ACTUALLY SCRAP THAT SOMETHINGS BROKE AND NOW WE'RE STUCK ON 0.2948\n",
        "scale_setting = 1\n",
        "\n",
        "if scale_setting == 0:\n",
        "  # Standardize training data.\n",
        "  scaler = MinMaxScaler()\n",
        "  X_cnn = scaler.fit_transform(X_cnn)\n",
        "  test_values_cnn = scaler.transform(test_values_cnn)\n",
        "\n",
        "  # Standardize training data.\n",
        "  scaler = MinMaxScaler()\n",
        "  X_gist = scaler.fit_transform(X_gist)\n",
        "  test_values_gist = scaler.transform(test_values_gist)\n",
        "\n",
        "elif scale_setting == 1:\n",
        "  # Training scaling.\n",
        "  mean = X_cnn.mean()\n",
        "  std = X_cnn.std()\n",
        "\n",
        "  X_cnn = (X_cnn - mean) / std\n",
        "  test_values_cnn = (test_values_cnn - mean) / std\n",
        "\n",
        "  # Testing scaling.\n",
        "  mean = X_gist.mean()\n",
        "  std = X_gist.std()\n",
        "\n",
        "  X_gist = (X_gist - mean) / std\n",
        "  test_values_gist = (test_values_gist - mean) / std\n",
        "\n",
        "\n",
        "#Create final np arrays for training/test.\n",
        "X_standardized = np.concatenate((X_cnn,X_gist),axis=1)\n",
        "test_data_standardized = np.concatenate((test_values_cnn,test_values_gist),axis=1)"
      ],
      "execution_count": 0,
      "outputs": []
    },
    {
      "cell_type": "code",
      "metadata": {
        "id": "6sthEF04NO-a",
        "colab_type": "code",
        "colab": {}
      },
      "source": [
        "# Params:\n",
        "\n",
        "X = X_standardized\n",
        "\n",
        "test_data = test_data_standardized\n",
        "\n",
        "\n",
        "hddn_lyrs = (100,100,100,100)\n",
        "mx_itr = 100\n",
        "\n",
        "# No diff so far.\n",
        "lr = { \"c\" : 'constant', \"i\": 'invscaling', \"a\":'adaptive'}"
      ],
      "execution_count": 0,
      "outputs": []
    },
    {
      "cell_type": "code",
      "metadata": {
        "id": "ncneZVmYOszZ",
        "colab_type": "code",
        "colab": {}
      },
      "source": [
        "# Classifier.\n",
        "clf = MLPClassifier(solver=\"lbfgs\",\n",
        "                    hidden_layer_sizes=hddn_lyrs,\n",
        "                    max_iter=mx_itr,\n",
        "                    alpha=1e-5,\n",
        "                    random_state=1,\n",
        "                    learning_rate=lr[\"c\"]\n",
        "                    )\n",
        "\n",
        "clf.fit(X,y)\n",
        "\n",
        "# Predictions.\n",
        "predictions_final = clf.predict(test_data)"
      ],
      "execution_count": 0,
      "outputs": []
    },
    {
      "cell_type": "code",
      "metadata": {
        "id": "RmNN34T1EHCn",
        "colab_type": "code",
        "outputId": "8329658c-491f-4452-e92a-44b4ca7aa1e6",
        "colab": {
          "base_uri": "https://localhost:8080/",
          "height": 230
        }
      },
      "source": [
        "# Calculate extremely rough \"accuracy\" from proportion of data correct.\n",
        "\n",
        "class_0 = 0\n",
        "class_1 = 0\n",
        "\n",
        "for val in predictions_final:\n",
        "  if val == 0:\n",
        "    class_0 += 1\n",
        "  elif val == 1:\n",
        "    class_1 += 1\n",
        "\n",
        "total = len(predictions_final)\n",
        "\n",
        "pred_0 = round((class_0 / total), 4)\n",
        "pred_1 = round((class_1 / total), 4) \n",
        "\n",
        "actual_0 = float(test_proportions.iloc[0,0][:6])\n",
        "actual_1 = round((1 - actual_0),4)\n",
        "\n",
        "dif = abs(pred_0 - actual_0)\n",
        "percent_dif = dif / np.mean([pred_0,actual_0]) * 100\n",
        "\n",
        "print(\"Class 0 Non memorable: \\nPredicted proportion: {} \\nActual proportion:    {}\\n\".format(pred_0,actual_0))\n",
        "print(\"Class 1 Memorable: \\nPredicted proportion: {} \\nActual proportion:    {}\\n\".format(pred_1,actual_1))\n",
        "print(\"Percentage difference pred_0 and actual_0 is:\\n{}%\\nDifference of:\\n{}\".format(round(percent_dif,2), round(dif,4)))"
      ],
      "execution_count": 179,
      "outputs": [
        {
          "output_type": "stream",
          "text": [
            "Class 0 Non memorable: \n",
            "Predicted proportion: 0.2948 \n",
            "Actual proportion:    0.6152\n",
            "\n",
            "Class 1 Memorable: \n",
            "Predicted proportion: 0.7052 \n",
            "Actual proportion:    0.3848\n",
            "\n",
            "Percentage difference pred_0 and actual_0 is:\n",
            "70.42%\n",
            "Difference of:\n",
            "0.3204\n"
          ],
          "name": "stdout"
        }
      ]
    },
    {
      "cell_type": "code",
      "metadata": {
        "id": "kqIyvsRnhixt",
        "colab_type": "code",
        "colab": {}
      },
      "source": [
        "# 0.6152 class 0      non memorable.\n",
        "# 0.3848 class 1      memorable."
      ],
      "execution_count": 0,
      "outputs": []
    },
    {
      "cell_type": "code",
      "metadata": {
        "id": "cYv1NDq0srpX",
        "colab_type": "code",
        "colab": {}
      },
      "source": [
        "catch this cell"
      ],
      "execution_count": 0,
      "outputs": []
    },
    {
      "cell_type": "code",
      "metadata": {
        "id": "m1-4s0x9XkVl",
        "colab_type": "code",
        "colab": {}
      },
      "source": [
        "# Create and download .csv file.\n",
        "rnge = np.arange(1,len(predictions_final)+1)\n",
        "df = pd.DataFrame({\"ID\": rnge, \"prediction\": predictions_final})\n",
        "df.to_csv(\"submission1.csv\", index=False)"
      ],
      "execution_count": 0,
      "outputs": []
    },
    {
      "cell_type": "code",
      "metadata": {
        "id": "V8sdUD74cN7M",
        "colab_type": "code",
        "outputId": "d84f0b9a-843f-4c33-f778-d9bd006cff9b",
        "colab": {
          "base_uri": "https://localhost:8080/",
          "height": 123
        }
      },
      "source": [
        "!ls"
      ],
      "execution_count": 110,
      "outputs": [
        {
          "output_type": "stream",
          "text": [
            "additional_training.csv      im.png\t\t\t  testing.csv.zip\n",
            "additional_training.csv.zip  kaggle.json\t\t  test_proportions.csv\n",
            "annotation_confidence.csv    sample_data\t\t  training.csv\n",
            "foo.png\t\t\t     sample_valid_submission.csv  training.csv.zip\n",
            "im0.png\t\t\t     submission1.csv\n",
            "im1.png\t\t\t     testing.csv\n"
          ],
          "name": "stdout"
        }
      ]
    },
    {
      "cell_type": "code",
      "metadata": {
        "id": "ac5bnBeNSniT",
        "colab_type": "code",
        "outputId": "22e5cb12-2067-43f7-a3dd-aa88f5e58892",
        "colab": {
          "base_uri": "https://localhost:8080/",
          "height": 70
        }
      },
      "source": [
        "# Run to submit to Kaggle competition.\n",
        "!kaggle competitions submit brighton-a-memorable-city -f submission1.csv -m \"woo\""
      ],
      "execution_count": 111,
      "outputs": [
        {
          "output_type": "stream",
          "text": [
            "Warning: Looks like you're using an outdated API Version, please consider updating (server 1.5.6 / client 1.5.4)\n",
            "\r  0% 0.00/81.9k [00:00<?, ?B/s]\r100% 81.9k/81.9k [00:00<00:00, 392kB/s]\n",
            "Successfully submitted to Brighton, a memorable city!"
          ],
          "name": "stdout"
        }
      ]
    },
    {
      "cell_type": "code",
      "metadata": {
        "id": "tY3sev_dYFqS",
        "colab_type": "code",
        "colab": {}
      },
      "source": [
        "files.download(\"submission1.csv\")"
      ],
      "execution_count": 0,
      "outputs": []
    },
    {
      "cell_type": "markdown",
      "metadata": {
        "id": "_mSFa0j4OUPJ",
        "colab_type": "text"
      },
      "source": [
        " <br>"
      ]
    },
    {
      "cell_type": "code",
      "metadata": {
        "id": "2eczMrw0WeMQ",
        "colab_type": "code",
        "colab": {}
      },
      "source": [
        "# # Total Data.\n",
        "# # Total Data.\n",
        "# # Total Data.\n",
        "# # Total Data.\n",
        "# # Total Data.\n",
        "\n",
        "# # Get all training values.\n",
        "# train_values = train.iloc[:, 1:-1].to_numpy(copy=True)\n",
        "# # Get all observed predictions.\n",
        "# train_observed = train.iloc[:, -1].to_numpy(copy=True)\n",
        "# # Compare to check equal length.\n",
        "# print(len(train_values))\n",
        "# print(len(train_observed))\n",
        "\n",
        "# # Non-standardized Data\n",
        "# X = train_values\n",
        "# y = train_observed \n",
        "\n",
        "# # Values to test on.\n",
        "# test_values = test.iloc[:,1:].to_numpy(copy=True)\n",
        "\n",
        "# # Classifier.\n",
        "# clf = MLPClassifier(solver=\"lbfgs\", hidden_layer_sizes=(100,), max_iter=200, alpha=1e-5, random_state=1)\n",
        "\n",
        "# clf.fit(X,y)\n",
        "\n",
        "# # Predictions.\n",
        "# predictions_final = clf.predict(test_values)"
      ],
      "execution_count": 0,
      "outputs": []
    },
    {
      "cell_type": "code",
      "metadata": {
        "id": "XG-2qpT8c4-p",
        "colab_type": "code",
        "colab": {}
      },
      "source": [
        "# pca = PCA(n_components=2)\n",
        "\n",
        "# principalComponents = pca.fit_transform(X)\n",
        "\n",
        "# principalDf = pd.DataFrame(data=principalComponents, columns=[\"PC1\",\"PC2\"])\n",
        "\n",
        "# finalDf = pd.concat([principalDf, train.iloc[:, -1]], axis = 1)\n",
        "\n",
        "# print(finalDf)\n",
        "\n",
        "\n",
        "# labels=train.iloc[:, -1]\n",
        "# cdict={0:'red',1:'green'}\n",
        "# labl={0:'class0',1:'class1'}\n",
        "# marker={0:'*',1:'o'}\n",
        "# alpha={0:1, 1:.5}\n",
        "# fig,ax=plt.subplots(figsize=(7,5))\n",
        "# fig.patch.set_facecolor('white')\n",
        "# for l in np.unique(labels):\n",
        "#  ax.scatter(finalDf[\"PC1\"],finalDf[\"PC2\"],c=cdict[l],s=40,\n",
        "#            label=labl[l],marker=marker[l],alpha=alpha[l])\n",
        "# # for loop ends\n",
        "# plt.xlabel(\"First Principal Component\",fontsize=14)\n",
        "# plt.ylabel(\"Second Principal Component\",fontsize=14)\n",
        "# plt.legend()\n",
        "# plt.show()\n",
        "# # please check the scatter plot of the remaining component and you will understand the difference"
      ],
      "execution_count": 0,
      "outputs": []
    },
    {
      "cell_type": "code",
      "metadata": {
        "id": "j-_jBqUt6ddT",
        "colab_type": "code",
        "colab": {}
      },
      "source": [
        "#### GROUPED TWIN AXIS BAR PLOT\n",
        "\n",
        "# # Data representation:\n",
        "\n",
        "# # Training ---\n",
        "# trn_c0 = np.count_nonzero(y == 0)\n",
        "# trn_c1 = np.count_nonzero(y == 1)\n",
        "\n",
        "# plsdeleteAFTER = [trn_c0,trn_c1] #########\n",
        "# autolabel_vals = [trn_c0,trn_c1] # Hold vals for rect labels.\n",
        "\n",
        "# trn_c0 = round((trn_c0/len(y)*100),2)\n",
        "# trn_c1 = round((trn_c1/len(y)*100),2)\n",
        "# trn_bar = [trn_c0,trn_c1] # Hold vals for bar plot.\n",
        "\n",
        "\n",
        "# # Testing ---\n",
        "# tst_c0 = float(test_proportions.iloc[0,0][:6])\n",
        "\n",
        "# # Hold vals for rect labels.\n",
        "# autolabel_vals.append(tst_c0*len(test))\n",
        "# autolabel_vals.append((1-tst_c0)*len(test))\n",
        "# plsdeleteAFTER = [tst_c0*len(test),(1-tst_c0)*len(test)] #####\n",
        "\n",
        "# tst_c0 = round((tst_c0*100),2)\n",
        "# tst_c1 = 100 - tst_c0\n",
        "# tst_bar = [tst_c0,tst_c1] # Hold vals for bar plot.\n",
        "\n",
        "\n",
        "# print(\"Proportions\")\n",
        "# print(\"Training data:  Class0: {}%   Class1: {}%\".format(trn_c0,trn_c1) +\n",
        "#       \"   Proportion: {} : 1\".format(round((trn_c0/trn_c1),4)))\n",
        "# print(\"Testing data:   Class0: {}%   Class1: {}%\".format(tst_c0,tst_c1) + \n",
        "#       \"   Proportion: {} : 1\".format(round((tst_c0/tst_c1),4)))\n",
        "\n",
        "\n",
        "# # Bar Plot.\n",
        "# labels = [\"Class0 - Memorable\", \"Class1 - Non Memorable\"]\n",
        "# x = np.arange(len(labels))\n",
        "# width = 0.25\n",
        "\n",
        "# fig, ax = plt.subplots()\n",
        "# rects1 = ax.bar(x - width/2, trn_bar, width, label='Train')\n",
        "# rects2 = ax.bar(x + width/2, tst_bar, width, label='Test')\n",
        "\n",
        "# colour = \"tab:blue\"\n",
        "# ax.set_ylabel(\"TRAINING DATA\", color=colour)\n",
        "# ax.set_ylim([0,100])\n",
        "# ax.set_xticks(x)\n",
        "# ax.set_xticklabels(labels)\n",
        "# ax.legend()\n",
        "\n",
        "# ax2 = ax.twinx()\n",
        "# colour = \"tab:orange\"\n",
        "# ax2.set_ylabel(\"TESTING DATA\", color=colour)\n",
        "# ax2.tick_params(axis=\"y\", color=colour)\n",
        "\n",
        "# ############\n",
        "# # https://matplotlib.org/3.1.1/gallery/lines_bars_and_markers/barchart.html\n",
        "# def autolabel(rects):\n",
        "#   for i, rect in enumerate(rects):\n",
        "#     height = rect.get_height()\n",
        "#     ax.annotate('{}%'.format(height),\n",
        "#                 xy=(rect.get_x() + rect.get_width() / 2, height),\n",
        "#                 xytext=(0, 3),  # 3 points vertical offset\n",
        "#                 textcoords=\"offset points\",\n",
        "#                 ha='center', va='bottom')\n",
        "# ############\n",
        "\n",
        "\n",
        "# autolabel(rects1)\n",
        "# autolabel(rects2)\n",
        "\n",
        "# fig.tight_layout()\n",
        "\n",
        "# plt.show()"
      ],
      "execution_count": 0,
      "outputs": []
    }
  ]
}